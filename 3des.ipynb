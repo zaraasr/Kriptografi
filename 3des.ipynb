{
  "nbformat": 4,
  "nbformat_minor": 0,
  "metadata": {
    "colab": {
      "provenance": []
    },
    "kernelspec": {
      "name": "python3",
      "display_name": "Python 3"
    },
    "language_info": {
      "name": "python"
    }
  },
  "cells": [
    {
      "cell_type": "code",
      "execution_count": null,
      "metadata": {
        "colab": {
          "base_uri": "https://localhost:8080/"
        },
        "id": "Gp_NpCm3UNB4",
        "outputId": "b3707983-fae2-4af5-a33e-c02c30ccc3ea"
      },
      "outputs": [
        {
          "output_type": "stream",
          "name": "stdout",
          "text": [
            "Input Paintext : computer\n",
            "Plaintext : COMPUTER\n"
          ]
        }
      ],
      "source": [
        "plaintext = input(\"Input Paintext : \")\n",
        "print(\"Plaintext : \"+ plaintext.upper())"
      ]
    },
    {
      "cell_type": "code",
      "source": [
        "# konversi huruf ke biner berdasarkan tabel ascii\n",
        "binary_mapping = {\n",
        "    'A': '01000001', 'B': '01000010', 'C': '01000011', 'D': '01000100',\n",
        "    'E': '01000101', 'F': '01000110', 'G': '01000111', 'H': '01001000',\n",
        "    'I': '01001001', 'J': '01001010', 'K': '01001011', 'L': '01001100',\n",
        "    'M': '01001101', 'N': '01001110', 'O': '01001111', 'P': '01010000',\n",
        "    'Q': '01010001', 'R': '01010010', 'S': '01010011', 'T': '01010100',\n",
        "    'U': '01010101', 'V': '01010110', 'W': '01010111', 'X': '01011000',\n",
        "    'Y': '01011001', 'Z': '01011010',\n",
        "    ' ': '00100000',\n",
        "}\n",
        "\n",
        "# Mengonversi teks ke representasi biner secara manual\n",
        "plaintext_binary = \"\"\n",
        "if len(plaintext) == 8:\n",
        "  for char in plaintext:\n",
        "      # Mengkonversi setiap huruf ke representasi biner secara manual\n",
        "      binary_value = binary_mapping.get(char.upper(), '')\n",
        "\n",
        "      plaintext_binary += binary_value\n",
        "\n",
        "  print(\"binary :\", plaintext_binary)\n",
        "else:\n",
        "    print(\"Plaintext harus terdiri dari 8 huruf\")\n",
        "\n"
      ],
      "metadata": {
        "colab": {
          "base_uri": "https://localhost:8080/"
        },
        "id": "VHTzRgRGUYUy",
        "outputId": "da7fc75f-c339-406f-bcb8-11d79d8afe5d"
      },
      "execution_count": null,
      "outputs": [
        {
          "output_type": "stream",
          "name": "stdout",
          "text": [
            "binary : 0100001101001111010011010101000001010101010101000100010101010010\n"
          ]
        }
      ]
    },
    {
      "cell_type": "code",
      "source": [
        "ip_table = [58, 50, 42, 34, 26, 18, 10, 2,\n",
        "            60, 52, 44, 36, 28, 20, 12, 4,\n",
        "            62, 54, 46, 38, 30, 22, 14, 6,\n",
        "            64, 56, 48, 40, 32, 24, 16, 8,\n",
        "            57, 49, 41, 33, 25, 17, 9, 1,\n",
        "            59, 51, 43, 35, 27, 19, 11, 3,\n",
        "            61, 53, 45, 37, 29, 21, 13, 5,\n",
        "            63, 55, 47, 39, 31, 23, 15, 7]\n",
        "\n",
        "plaintext_ip = ''.join([plaintext_binary[i - 1] for i in ip_table])\n",
        "print('Permutasi Awal : ', plaintext_ip)\n"
      ],
      "metadata": {
        "colab": {
          "base_uri": "https://localhost:8080/"
        },
        "id": "BSTZp1-ZUZpM",
        "outputId": "7aec01c7-76fa-4e79-b8b5-02b99b816ffc"
      },
      "execution_count": null,
      "outputs": [
        {
          "output_type": "stream",
          "name": "stdout",
          "text": [
            "Permutasi Awal :  1111111110111000011101100101011100000000000000000000011010000011\n"
          ]
        }
      ]
    },
    {
      "cell_type": "code",
      "source": [
        "plaintext_ip_space = ' '.join([plaintext_ip[i:i+8] for i in range(0, len(plaintext_ip), 8)]) # Mengelompokkan setiap 8 bit menjadi satu byte dan menambahkan spasi sebagai pemisah\n",
        "\n",
        "print(\"Inisial Permutasion:\", plaintext_ip_space)"
      ],
      "metadata": {
        "colab": {
          "base_uri": "https://localhost:8080/"
        },
        "id": "38essvEiV7FE",
        "outputId": "16ab073b-bbe0-4f9f-c10a-2c76e514b63c"
      },
      "execution_count": null,
      "outputs": [
        {
          "output_type": "stream",
          "name": "stdout",
          "text": [
            "Inisial Permutasion: 11111111 10111000 01110110 01010111 00000000 00000000 00000110 10000011\n"
          ]
        }
      ]
    },
    {
      "cell_type": "code",
      "source": [
        "# Menentukan panjang setengah dari Plainteks setelah permutasi awal (IP). Ini dilakukan untuk membagi plaintext menjadi dua bagian, L0 dan R0.\n",
        "half_length = len(plaintext_ip) // 2\n",
        "L0 = plaintext_ip[:half_length] #Mengambil bagian kiri (L0) dari plaintext, yaitu substring dari indeks 0 hingga half_length - 1.\n",
        "R0 = plaintext_ip[half_length:] #Mengambil bagian kanan (R0) dari plaintext, yaitu substring dari indeks half_length hingga akhir.\n",
        "\n",
        "# Output L0 dan R0\n",
        "print(\"L0 (Left 32 bits) :\", L0)\n",
        "print(\"R0 (Right 32 bits):\", R0)"
      ],
      "metadata": {
        "colab": {
          "base_uri": "https://localhost:8080/"
        },
        "id": "3Haook0LV70s",
        "outputId": "885d3bf4-a2aa-4707-ecc6-4484f717b5f3"
      },
      "execution_count": null,
      "outputs": [
        {
          "output_type": "stream",
          "name": "stdout",
          "text": [
            "L0 (Left 32 bits) : 11111111101110000111011001010111\n",
            "R0 (Right 32 bits): 00000000000000000000011010000011\n"
          ]
        }
      ]
    },
    {
      "cell_type": "code",
      "source": [
        "key_hexadesimal = input(\"Input Kunci 1 :\")\n",
        "key2_hexadesimal = input(\"Input Kunci 2 :\")\n",
        "key3_hexadesimal = input(\"Input Kunci 3 :\")"
      ],
      "metadata": {
        "colab": {
          "base_uri": "https://localhost:8080/"
        },
        "id": "NWuqHvVtXcGh",
        "outputId": "6612feb9-a48d-4347-c739-e256480b847b"
      },
      "execution_count": null,
      "outputs": [
        {
          "name": "stdout",
          "output_type": "stream",
          "text": [
            "Input Kunci 1 :133457799BBCDFF1\n",
            "Input Kunci 2 :133457799BBCFFF1\n",
            "Input Kunci 3 :133457799BBCDDD1\n"
          ]
        }
      ]
    },
    {
      "cell_type": "code",
      "source": [
        "hexa_to_bin = {\n",
        "    '0': \"0000\", '1': \"0001\", '2': \"0010\", '3': \"0011\",\n",
        "    '4': \"0100\", '5': \"0101\", '6': \"0110\", '7': \"0111\",\n",
        "    '8': \"1000\", '9': \"1001\", 'A': \"1010\", 'B': \"1011\",\n",
        "    'C': \"1100\", 'D': \"1101\", 'E': \"1110\", 'F': \"1111\"\n",
        "}\n",
        "\n",
        "\n",
        "def hexakey_to_bin(key_hexadesimal):\n",
        "    key_binary = ''\n",
        "    if len(key_hexadesimal) == 16:\n",
        "        for char in key_hexadesimal:\n",
        "            value = hexa_to_bin.get(char.upper(), '')\n",
        "\n",
        "            if value:\n",
        "                key_binary += value\n",
        "            else:\n",
        "                print(f\"huruf salah '{char}' di hexadesimal key.\")\n",
        "                break\n",
        "    else:\n",
        "        print(\"Hexadecimal key harus 16 karakter.\")\n",
        "    return key_binary\n",
        "binkey_1 = hexakey_to_bin(key_hexadesimal)\n",
        "binkey_2 = hexakey_to_bin(key2_hexadesimal)\n",
        "binkey_3 = hexakey_to_bin(key3_hexadesimal)\n",
        "\n",
        "print(\"Binary Key:\", binkey_1)\n",
        "print(\"Binary Key:\", binkey_2)\n",
        "print(\"Binary Key:\", binkey_3)\n"
      ],
      "metadata": {
        "colab": {
          "base_uri": "https://localhost:8080/"
        },
        "id": "a4Cyo3CpXvo_",
        "outputId": "fc92e3c3-6454-4908-a57a-2ac7df0e7da8"
      },
      "execution_count": null,
      "outputs": [
        {
          "output_type": "stream",
          "name": "stdout",
          "text": [
            "Binary Key: 0001001100110100010101110111100110011011101111001101111111110001\n",
            "Binary Key: 0001001100110100010101110111100110011011101111001111111111110001\n",
            "Binary Key: 0001001100110100010101110111100110011011101111001101110111010001\n"
          ]
        }
      ]
    },
    {
      "cell_type": "code",
      "source": [
        "key_binary_with_spaces = ' '.join([binkey_1[i:i+8] for i in range(0, len(binkey_1), 8)])\n",
        "key_binary_with_spaces2 = ' '.join([binkey_2[i:i+8] for i in range(0, len(binkey_2), 8)])\n",
        "key_binary_with_spaces3 = ' '.join([binkey_3[i:i+8] for i in range(0, len(binkey_3), 8)])\n",
        "\n",
        "print(\"Kunci binary dengan spasi:\")\n",
        "print(key_binary_with_spaces)\n",
        "print(key_binary_with_spaces2)\n",
        "print(key_binary_with_spaces3)"
      ],
      "metadata": {
        "colab": {
          "base_uri": "https://localhost:8080/"
        },
        "id": "iIsI7R7GY9nw",
        "outputId": "36099a77-dc00-4d4a-bf2d-870e33dfeb62"
      },
      "execution_count": null,
      "outputs": [
        {
          "output_type": "stream",
          "name": "stdout",
          "text": [
            "Kunci binary dengan spasi:\n",
            "00010011 00110100 01010111 01111001 10011011 10111100 11011111 11110001\n",
            "00010011 00110100 01010111 01111001 10011011 10111100 11111111 11110001\n",
            "00010011 00110100 01010111 01111001 10011011 10111100 11011101 11010001\n"
          ]
        }
      ]
    },
    {
      "cell_type": "code",
      "source": [
        "pc1_table = [57, 49, 41, 33, 25, 17, 9,\n",
        "             1, 58, 50, 42, 34, 26, 18,\n",
        "             10, 2, 59, 51, 43, 35, 27,\n",
        "             19, 11, 3, 60, 52, 44, 36,\n",
        "             63, 55, 47, 39, 31, 23, 15,\n",
        "             7, 62, 54, 46, 38, 30, 22,\n",
        "             14, 6, 61, 53, 45, 37, 29,\n",
        "             21, 13, 5, 28, 20, 12, 4]\n",
        "\n",
        "print(\"K1  =\", key_binary_with_spaces)\n",
        "print(\"K2  =\", key_binary_with_spaces2)\n",
        "print(\"K3  =\", key_binary_with_spaces3)\n",
        "print()\n",
        "\n",
        "# Lakukan permutasi awal kunci (PC1)\n",
        "key_permute_pc1 = ''.join(binkey_1[i - 1] for i in pc1_table)\n",
        "key2_permute_pc1 = ''.join(binkey_2[i - 1] for i in pc1_table)\n",
        "key3_permute_pc1 = ''.join(binkey_3[i - 1] for i in pc1_table)\n",
        "\n",
        "\n",
        "# Tampilkan kunci setelah permutasi awal dengan spasi setiap 8 bit\n",
        "key_permuted_with_spaces = ' '.join(key_permute_pc1[i:i + 7] for i in range(0, 56, 7))\n",
        "key_permuted_with_spaces2 = ' '.join(key2_permute_pc1[i:i + 7] for i in range(0, 56, 7))\n",
        "key_permuted_with_spaces3 = ' '.join(key3_permute_pc1[i:i + 7] for i in range(0, 56, 7))\n",
        "\n",
        "\n",
        "print(\"K1+ =\", key_permuted_with_spaces)\n",
        "print(\"K2+ =\", key_permuted_with_spaces2)\n",
        "print(\"K3+ =\", key_permuted_with_spaces3)\n"
      ],
      "metadata": {
        "colab": {
          "base_uri": "https://localhost:8080/"
        },
        "id": "emghXTEbaGAb",
        "outputId": "edb6a5cc-862e-4cc0-a0c8-d17bdbc885d8"
      },
      "execution_count": null,
      "outputs": [
        {
          "output_type": "stream",
          "name": "stdout",
          "text": [
            "K1  = 00010011 00110100 01010111 01111001 10011011 10111100 11011111 11110001\n",
            "K2  = 00010011 00110100 01010111 01111001 10011011 10111100 11111111 11110001\n",
            "K3  = 00010011 00110100 01010111 01111001 10011011 10111100 11011101 11010001\n",
            "\n",
            "K1+ = 1111000 0110011 0010101 0101111 0101010 1011001 1001111 0001111\n",
            "K2+ = 1111000 0110011 0011101 0101111 0101010 1011001 1001111 0001111\n",
            "K3+ = 1111000 0110011 0000101 0101111 0001010 1011001 1001111 0001111\n"
          ]
        }
      ]
    },
    {
      "cell_type": "code",
      "source": [
        "C0_key1 = key_permute_pc1[:28]\n",
        "D0_key1 = key_permute_pc1[28:]\n",
        "\n",
        "C0_key2 = key2_permute_pc1[:28]\n",
        "D0_key2 = key2_permute_pc1[28:]\n",
        "\n",
        "C0_key3 = key3_permute_pc1[:28]\n",
        "D0_key3 = key3_permute_pc1[28:]\n",
        "\n",
        "# Tampilkan C0 dan D0 dengan spasi setiap 7 bit\n",
        "C0_with_spaces = ' '.join(C0_key1[i:i + 7] for i in range(0, 28, 7))\n",
        "D0_with_spaces = ' '.join(D0_key1[i:i + 7] for i in range(0, 28, 7))\n",
        "\n",
        "C0_with_spaces2 = ' '.join(C0_key2[i:i + 7] for i in range(0, 28, 7))\n",
        "D0_with_spaces2 = ' '.join(D0_key2[i:i + 7] for i in range(0, 28, 7))\n",
        "\n",
        "C0_with_spaces3 = ' '.join(C0_key3[i:i + 7] for i in range(0, 28, 7))\n",
        "D0_with_spaces3 = ' '.join(D0_key3[i:i + 7] for i in range(0, 28, 7))\n",
        "\n",
        "print(\"C0_k1 =\", C0_with_spaces)\n",
        "print(\"D0_k1 =\", D0_with_spaces)\n",
        "print()\n",
        "\n",
        "print(\"C0_k2 =\", C0_with_spaces2)\n",
        "print(\"D0_k2 =\", D0_with_spaces2)\n",
        "print()\n",
        "\n",
        "print(\"C0_k3 =\", C0_with_spaces3)\n",
        "print(\"D0_k3 =\", D0_with_spaces3)"
      ],
      "metadata": {
        "id": "7L1gySmaa8AE",
        "colab": {
          "base_uri": "https://localhost:8080/"
        },
        "outputId": "e01e8872-fc85-4fe5-a10b-aec2dfbd2afe"
      },
      "execution_count": null,
      "outputs": [
        {
          "output_type": "stream",
          "name": "stdout",
          "text": [
            "C0_k1 = 1111000 0110011 0010101 0101111\n",
            "D0_k1 = 0101010 1011001 1001111 0001111\n",
            "\n",
            "C0_k2 = 1111000 0110011 0011101 0101111\n",
            "D0_k2 = 0101010 1011001 1001111 0001111\n",
            "\n",
            "C0_k3 = 1111000 0110011 0000101 0101111\n",
            "D0_k3 = 0001010 1011001 1001111 0001111\n"
          ]
        }
      ]
    },
    {
      "cell_type": "code",
      "source": [
        "Cn_k1 = [C0_key1]\n",
        "Dn_k1 = [D0_key1]\n",
        "\n",
        "# Jumlah putaran\n",
        "num_rounds = 16\n",
        "\n",
        "# Tabel jumlah pergeseran bit pada setiap putaran\n",
        "shift_table = [1, 1, 2, 2, 2, 2, 2, 2,\n",
        "               1, 2, 2, 2, 2, 2, 2, 1]\n",
        "\n",
        "# Operasi left shift pada Cn dan Dn\n",
        "for round_num in range(num_rounds):\n",
        "    # Jumlah bit yang harus digeser pada putaran tertentu\n",
        "    shift_amount = shift_table[round_num]\n",
        "\n",
        "    # Left shift pada Cn dan Dn\n",
        "    shifted_Cn = Cn_k1[-1][shift_amount:] + Cn_k1[-1][:shift_amount]\n",
        "    shifted_Dn = Dn_k1[-1][shift_amount:] + Dn_k1[-1][:shift_amount]\n",
        "\n",
        "    # Tambahkan ke blok Cn dan Dn\n",
        "    Cn_k1.append(shifted_Cn)\n",
        "    Dn_k1.append(shifted_Dn)\n",
        "\n",
        "# Tampilkan hasil blok Cn dan Dn dengan spasi setiap 7 bit hingga putaran ke-16\n",
        "for i in range(num_rounds + 1):\n",
        "    Cn_with_spaces = ' '.join(Cn_k1[i][j:j + 7] for j in range(0, 28, 7))\n",
        "    Dn_with_spaces = ' '.join(Dn_k1[i][j:j + 7] for j in range(0, 28, 7))\n",
        "\n",
        "    print(f\"Putaran {i}:\")\n",
        "    print(f\"C{i} =\", Cn_with_spaces)\n",
        "    print(f\"D{i} =\", Dn_with_spaces)\n",
        "    print()\n"
      ],
      "metadata": {
        "colab": {
          "base_uri": "https://localhost:8080/"
        },
        "id": "jSIShw2aMfNn",
        "outputId": "57386ba3-1ec1-4cad-821e-2c6dc09d1f06"
      },
      "execution_count": null,
      "outputs": [
        {
          "output_type": "stream",
          "name": "stdout",
          "text": [
            "Putaran 0:\n",
            "C0 = 1111000 0110011 0010101 0101111\n",
            "D0 = 0101010 1011001 1001111 0001111\n",
            "\n",
            "Putaran 1:\n",
            "C1 = 1110000 1100110 0101010 1011111\n",
            "D1 = 1010101 0110011 0011110 0011110\n",
            "\n",
            "Putaran 2:\n",
            "C2 = 1100001 1001100 1010101 0111111\n",
            "D2 = 0101010 1100110 0111100 0111101\n",
            "\n",
            "Putaran 3:\n",
            "C3 = 0000110 0110010 1010101 1111111\n",
            "D3 = 0101011 0011001 1110001 1110101\n",
            "\n",
            "Putaran 4:\n",
            "C4 = 0011001 1001010 1010111 1111100\n",
            "D4 = 0101100 1100111 1000111 1010101\n",
            "\n",
            "Putaran 5:\n",
            "C5 = 1100110 0101010 1011111 1110000\n",
            "D5 = 0110011 0011110 0011110 1010101\n",
            "\n",
            "Putaran 6:\n",
            "C6 = 0011001 0101010 1111111 1000011\n",
            "D6 = 1001100 1111000 1111010 1010101\n",
            "\n",
            "Putaran 7:\n",
            "C7 = 1100101 0101011 1111110 0001100\n",
            "D7 = 0110011 1100011 1101010 1010110\n",
            "\n",
            "Putaran 8:\n",
            "C8 = 0010101 0101111 1111000 0110011\n",
            "D8 = 1001111 0001111 0101010 1011001\n",
            "\n",
            "Putaran 9:\n",
            "C9 = 0101010 1011111 1110000 1100110\n",
            "D9 = 0011110 0011110 1010101 0110011\n",
            "\n",
            "Putaran 10:\n",
            "C10 = 0101010 1111111 1000011 0011001\n",
            "D10 = 1111000 1111010 1010101 1001100\n",
            "\n",
            "Putaran 11:\n",
            "C11 = 0101011 1111110 0001100 1100101\n",
            "D11 = 1100011 1101010 1010110 0110011\n",
            "\n",
            "Putaran 12:\n",
            "C12 = 0101111 1111000 0110011 0010101\n",
            "D12 = 0001111 0101010 1011001 1001111\n",
            "\n",
            "Putaran 13:\n",
            "C13 = 0111111 1100001 1001100 1010101\n",
            "D13 = 0111101 0101010 1100110 0111100\n",
            "\n",
            "Putaran 14:\n",
            "C14 = 1111111 0000110 0110010 1010101\n",
            "D14 = 1110101 0101011 0011001 1110001\n",
            "\n",
            "Putaran 15:\n",
            "C15 = 1111100 0011001 1001010 1010111\n",
            "D15 = 1010101 0101100 1100111 1000111\n",
            "\n",
            "Putaran 16:\n",
            "C16 = 1111000 0110011 0010101 0101111\n",
            "D16 = 0101010 1011001 1001111 0001111\n",
            "\n"
          ]
        }
      ]
    },
    {
      "cell_type": "code",
      "source": [
        "Cn_k2 = [C0_key2]\n",
        "Dn_k2 = [D0_key2]\n",
        "\n",
        "# Jumlah putaran\n",
        "num_rounds = 16\n",
        "\n",
        "# Tabel jumlah pergeseran bit pada setiap putaran\n",
        "shift_table = [1, 1, 2, 2, 2, 2, 2, 2,\n",
        "               1, 2, 2, 2, 2, 2, 2, 1]\n",
        "\n",
        "# Operasi left shift pada Cn dan Dn\n",
        "for round_num in range(num_rounds):\n",
        "    # Jumlah bit yang harus digeser pada putaran tertentu\n",
        "    shift_amount = shift_table[round_num]\n",
        "\n",
        "    # Left shift pada Cn dan Dn\n",
        "    shifted_Cn_2 = Cn_k2[-1][shift_amount:] + Cn_k2[-1][:shift_amount]\n",
        "    shifted_Dn_2 = Dn_k2[-1][shift_amount:] + Dn_k2[-1][:shift_amount]\n",
        "\n",
        "    # Tambahkan ke blok Cn dan Dn\n",
        "    Cn_k2.append(shifted_Cn_2)\n",
        "    Dn_k2.append(shifted_Dn_2)\n",
        "\n",
        "# Tampilkan hasil blok Cn dan Dn dengan spasi setiap 7 bit hingga putaran ke-16\n",
        "for i in range(num_rounds + 1):\n",
        "    Cn_with_spaces2 = ' '.join(Cn_k2[i][j:j + 7] for j in range(0, 28, 7))\n",
        "    Dn_with_spaces2 = ' '.join(Dn_k2[i][j:j + 7] for j in range(0, 28, 7))\n",
        "\n",
        "    print(f\"Putaran {i}:\")\n",
        "    print(f\"C{i} =\", Cn_with_spaces2)\n",
        "    print(f\"D{i} =\", Dn_with_spaces2)\n",
        "    print()\n"
      ],
      "metadata": {
        "colab": {
          "base_uri": "https://localhost:8080/"
        },
        "id": "zUtfvt-GQJoa",
        "outputId": "ba54ee6c-d497-46bd-d592-eb02cd14dce8"
      },
      "execution_count": null,
      "outputs": [
        {
          "output_type": "stream",
          "name": "stdout",
          "text": [
            "Putaran 0:\n",
            "C0 = 1111000 0110011 0011101 0101111\n",
            "D0 = 0101010 1011001 1001111 0001111\n",
            "\n",
            "Putaran 1:\n",
            "C1 = 1110000 1100110 0111010 1011111\n",
            "D1 = 1010101 0110011 0011110 0011110\n",
            "\n",
            "Putaran 2:\n",
            "C2 = 1100001 1001100 1110101 0111111\n",
            "D2 = 0101010 1100110 0111100 0111101\n",
            "\n",
            "Putaran 3:\n",
            "C3 = 0000110 0110011 1010101 1111111\n",
            "D3 = 0101011 0011001 1110001 1110101\n",
            "\n",
            "Putaran 4:\n",
            "C4 = 0011001 1001110 1010111 1111100\n",
            "D4 = 0101100 1100111 1000111 1010101\n",
            "\n",
            "Putaran 5:\n",
            "C5 = 1100110 0111010 1011111 1110000\n",
            "D5 = 0110011 0011110 0011110 1010101\n",
            "\n",
            "Putaran 6:\n",
            "C6 = 0011001 1101010 1111111 1000011\n",
            "D6 = 1001100 1111000 1111010 1010101\n",
            "\n",
            "Putaran 7:\n",
            "C7 = 1100111 0101011 1111110 0001100\n",
            "D7 = 0110011 1100011 1101010 1010110\n",
            "\n",
            "Putaran 8:\n",
            "C8 = 0011101 0101111 1111000 0110011\n",
            "D8 = 1001111 0001111 0101010 1011001\n",
            "\n",
            "Putaran 9:\n",
            "C9 = 0111010 1011111 1110000 1100110\n",
            "D9 = 0011110 0011110 1010101 0110011\n",
            "\n",
            "Putaran 10:\n",
            "C10 = 1101010 1111111 1000011 0011001\n",
            "D10 = 1111000 1111010 1010101 1001100\n",
            "\n",
            "Putaran 11:\n",
            "C11 = 0101011 1111110 0001100 1100111\n",
            "D11 = 1100011 1101010 1010110 0110011\n",
            "\n",
            "Putaran 12:\n",
            "C12 = 0101111 1111000 0110011 0011101\n",
            "D12 = 0001111 0101010 1011001 1001111\n",
            "\n",
            "Putaran 13:\n",
            "C13 = 0111111 1100001 1001100 1110101\n",
            "D13 = 0111101 0101010 1100110 0111100\n",
            "\n",
            "Putaran 14:\n",
            "C14 = 1111111 0000110 0110011 1010101\n",
            "D14 = 1110101 0101011 0011001 1110001\n",
            "\n",
            "Putaran 15:\n",
            "C15 = 1111100 0011001 1001110 1010111\n",
            "D15 = 1010101 0101100 1100111 1000111\n",
            "\n",
            "Putaran 16:\n",
            "C16 = 1111000 0110011 0011101 0101111\n",
            "D16 = 0101010 1011001 1001111 0001111\n",
            "\n"
          ]
        }
      ]
    },
    {
      "cell_type": "code",
      "source": [
        "Cn_k3 = [C0_key3]\n",
        "Dn_k3 = [D0_key3]\n",
        "\n",
        "# Jumlah putaran\n",
        "num_rounds = 16\n",
        "\n",
        "# Tabel jumlah pergeseran bit pada setiap putaran\n",
        "shift_table = [1, 1, 2, 2, 2, 2, 2, 2,\n",
        "               1, 2, 2, 2, 2, 2, 2, 1]\n",
        "\n",
        "# Operasi left shift pada Cn dan Dn\n",
        "for round_num in range(num_rounds):\n",
        "    # Jumlah bit yang harus digeser pada putaran tertentu\n",
        "    shift_amount = shift_table[round_num]\n",
        "\n",
        "    # Left shift pada Cn dan Dn\n",
        "    shifted_Cn_3 = Cn_k3[-1][shift_amount:] + Cn_k3[-1][:shift_amount]\n",
        "    shifted_Dn_3 = Dn_k3[-1][shift_amount:] + Dn_k3[-1][:shift_amount]\n",
        "\n",
        "    # Tambahkan ke blok Cn dan Dn\n",
        "    Cn_k3.append(shifted_Cn_3)\n",
        "    Dn_k3.append(shifted_Dn_3)\n",
        "\n",
        "# Tampilkan hasil blok Cn dan Dn dengan spasi setiap 7 bit hingga putaran ke-16\n",
        "for i in range(num_rounds + 1):\n",
        "    Cn_with_spaces3 = ' '.join(Cn_k3[i][j:j + 7] for j in range(0, 28, 7))\n",
        "    Dn_with_spaces3 = ' '.join(Dn_k3[i][j:j + 7] for j in range(0, 28, 7))\n",
        "\n",
        "    print(f\"Putaran {i}:\")\n",
        "    print(f\"C{i} =\", Cn_with_spaces3)\n",
        "    print(f\"D{i} =\", Dn_with_spaces3)\n",
        "    print()\n"
      ],
      "metadata": {
        "colab": {
          "base_uri": "https://localhost:8080/"
        },
        "id": "t9dshIEdRDYN",
        "outputId": "236d6f4f-d4e4-4284-ea64-56c4263c2551"
      },
      "execution_count": null,
      "outputs": [
        {
          "output_type": "stream",
          "name": "stdout",
          "text": [
            "Putaran 0:\n",
            "C0 = 1111000 0110011 0000101 0101111\n",
            "D0 = 0001010 1011001 1001111 0001111\n",
            "\n",
            "Putaran 1:\n",
            "C1 = 1110000 1100110 0001010 1011111\n",
            "D1 = 0010101 0110011 0011110 0011110\n",
            "\n",
            "Putaran 2:\n",
            "C2 = 1100001 1001100 0010101 0111111\n",
            "D2 = 0101010 1100110 0111100 0111100\n",
            "\n",
            "Putaran 3:\n",
            "C3 = 0000110 0110000 1010101 1111111\n",
            "D3 = 0101011 0011001 1110001 1110001\n",
            "\n",
            "Putaran 4:\n",
            "C4 = 0011001 1000010 1010111 1111100\n",
            "D4 = 0101100 1100111 1000111 1000101\n",
            "\n",
            "Putaran 5:\n",
            "C5 = 1100110 0001010 1011111 1110000\n",
            "D5 = 0110011 0011110 0011110 0010101\n",
            "\n",
            "Putaran 6:\n",
            "C6 = 0011000 0101010 1111111 1000011\n",
            "D6 = 1001100 1111000 1111000 1010101\n",
            "\n",
            "Putaran 7:\n",
            "C7 = 1100001 0101011 1111110 0001100\n",
            "D7 = 0110011 1100011 1100010 1010110\n",
            "\n",
            "Putaran 8:\n",
            "C8 = 0000101 0101111 1111000 0110011\n",
            "D8 = 1001111 0001111 0001010 1011001\n",
            "\n",
            "Putaran 9:\n",
            "C9 = 0001010 1011111 1110000 1100110\n",
            "D9 = 0011110 0011110 0010101 0110011\n",
            "\n",
            "Putaran 10:\n",
            "C10 = 0101010 1111111 1000011 0011000\n",
            "D10 = 1111000 1111000 1010101 1001100\n",
            "\n",
            "Putaran 11:\n",
            "C11 = 0101011 1111110 0001100 1100001\n",
            "D11 = 1100011 1100010 1010110 0110011\n",
            "\n",
            "Putaran 12:\n",
            "C12 = 0101111 1111000 0110011 0000101\n",
            "D12 = 0001111 0001010 1011001 1001111\n",
            "\n",
            "Putaran 13:\n",
            "C13 = 0111111 1100001 1001100 0010101\n",
            "D13 = 0111100 0101010 1100110 0111100\n",
            "\n",
            "Putaran 14:\n",
            "C14 = 1111111 0000110 0110000 1010101\n",
            "D14 = 1110001 0101011 0011001 1110001\n",
            "\n",
            "Putaran 15:\n",
            "C15 = 1111100 0011001 1000010 1010111\n",
            "D15 = 1000101 0101100 1100111 1000111\n",
            "\n",
            "Putaran 16:\n",
            "C16 = 1111000 0110011 0000101 0101111\n",
            "D16 = 0001010 1011001 1001111 0001111\n",
            "\n"
          ]
        }
      ]
    },
    {
      "cell_type": "code",
      "source": [
        "# Blok C1D1-C3D3\n",
        "C1D1 = Cn_k1[1] + Dn_k1[1]\n",
        "C2D2 = Cn_k2[1] + Dn_k2[1]\n",
        "C3D3 = Cn_k3[1] + Dn_k3[1]\n",
        "\n",
        "# Tampilkan hasil C1D1 dengan spasi setiap 8 bit\n",
        "C1D1_with_spaces = ' '.join(C1D1[i:i + 8] for i in range(0, len(C1D1), 8))\n",
        "C2D2_with_spaces2 = ' '.join(C2D2[i:i + 8] for i in range(0, len(C2D2), 8))\n",
        "C3D3_with_spaces3 = ' '.join(C3D3[i:i + 8] for i in range(0, len(C3D3), 8))\n",
        "\n",
        "print(\"C1D1 dengan spasi:\")\n",
        "print(C1D1_with_spaces)\n",
        "print()\n",
        "\n",
        "print(\"C2D2 dengan spasi:\")\n",
        "print(C2D2_with_spaces2)\n",
        "print()\n",
        "\n",
        "print(\"C3D3 dengan spasi:\")\n",
        "print(C3D3_with_spaces3)"
      ],
      "metadata": {
        "colab": {
          "base_uri": "https://localhost:8080/"
        },
        "id": "isrF6q6dT0PT",
        "outputId": "8e91037c-8f9b-40ec-e2fa-57d0a74150f7"
      },
      "execution_count": null,
      "outputs": [
        {
          "output_type": "stream",
          "name": "stdout",
          "text": [
            "C1D1 dengan spasi:\n",
            "11100001 10011001 01010101 11111010 10101100 11001111 00011110\n",
            "\n",
            "C2D2 dengan spasi:\n",
            "11100001 10011001 11010101 11111010 10101100 11001111 00011110\n",
            "\n",
            "C3D3 dengan spasi:\n",
            "11100001 10011000 01010101 11110010 10101100 11001111 00011110\n"
          ]
        }
      ]
    },
    {
      "cell_type": "code",
      "source": [
        "# Tabel PC-2 untuk permutasi kunci\n",
        "pc2_table = [14, 17, 11, 24, 1, 5,\n",
        "             3, 28, 15, 6, 21, 10,\n",
        "             23, 19, 12, 4, 26, 8,\n",
        "             16, 7, 27, 20, 13, 2,\n",
        "             41, 52, 31, 37, 47, 55,\n",
        "             30, 40, 51, 45, 33, 48,\n",
        "             44, 49, 39, 56, 34, 53,\n",
        "             46, 42, 50, 36, 29, 32]\n",
        "\n",
        "# Permutasi PC-2 pada blok C1D1\n",
        "K1 = ''.join(C1D1[i - 1] for i in pc2_table)\n",
        "\n",
        "# Tampilkan hasil permutasi PC-2\n",
        "print(\"Subkunci K1:\")\n",
        "print(K1)\n",
        "print()\n",
        "\n",
        "# Tampilkan hasil permutasi PC-2 dengan spasi setiap 7 bit\n",
        "key_pc2_with_spaces = ' '.join(K1[i:i + 6] for i in range(0, len(K1), 6))\n",
        "print(\"C1D1 dengan spasi:\")\n",
        "print(\"C1D1 =\",C1D1_with_spaces)\n",
        "print()\n",
        "print(\"K1 setelah PC-2:\")\n",
        "print(\"K1   =\",key_pc2_with_spaces)\n"
      ],
      "metadata": {
        "colab": {
          "base_uri": "https://localhost:8080/"
        },
        "id": "S-MCzzzIS3WQ",
        "outputId": "35bdb2e9-cd02-45b3-baa2-5fc26285643e"
      },
      "execution_count": null,
      "outputs": [
        {
          "output_type": "stream",
          "name": "stdout",
          "text": [
            "Subkunci K1:\n",
            "000110110000001011101111111111000111000001110010\n",
            "\n",
            "C1D1 dengan spasi:\n",
            "C1D1 = 11100001 10011001 01010101 11111010 10101100 11001111 00011110\n",
            "\n",
            "K1 setelah PC-2:\n",
            "K1   = 000110 110000 001011 101111 111111 000111 000001 110010\n"
          ]
        }
      ]
    },
    {
      "cell_type": "code",
      "source": [
        "# Tabel PC-2 untuk permutasi kunci\n",
        "pc2_table = [14, 17, 11, 24, 1, 5,\n",
        "             3, 28, 15, 6, 21, 10,\n",
        "             23, 19, 12, 4, 26, 8,\n",
        "             16, 7, 27, 20, 13, 2,\n",
        "             41, 52, 31, 37, 47, 55,\n",
        "             30, 40, 51, 45, 33, 48,\n",
        "             44, 49, 39, 56, 34, 53,\n",
        "             46, 42, 50, 36, 29, 32]\n",
        "\n",
        "# Permutasi PC-2 pada blok C1D1\n",
        "K2 = ''.join(C2D2[i - 1] for i in pc2_table)\n",
        "\n",
        "# Tampilkan hasil permutasi PC-2\n",
        "print(\"Subkunci K2:\")\n",
        "print(K2)\n",
        "print()\n",
        "\n",
        "# Tampilkan hasil permutasi PC-2 dengan spasi setiap 7 bit\n",
        "key_pc2_with_spaces2 = ' '.join(K2[i:i + 6] for i in range(0, len(K2), 6))\n",
        "print(\"C2D2 dengan spasi:\")\n",
        "print(\"C2D2 =\",C2D2_with_spaces2)\n",
        "print()\n",
        "print(\"K2 setelah PC-2:\")\n",
        "print(\"K2   =\",key_pc2_with_spaces2)\n"
      ],
      "metadata": {
        "colab": {
          "base_uri": "https://localhost:8080/"
        },
        "id": "62lgPSdjUY8T",
        "outputId": "fab70f0b-9d73-42eb-908a-e3b9224f8a26"
      },
      "execution_count": null,
      "outputs": [
        {
          "output_type": "stream",
          "name": "stdout",
          "text": [
            "Subkunci K2:\n",
            "010110110000001011101111111111000111000001110010\n",
            "\n",
            "C2D2 dengan spasi:\n",
            "C2D2 = 11100001 10011001 11010101 11111010 10101100 11001111 00011110\n",
            "\n",
            "K2 setelah PC-2:\n",
            "K2   = 010110 110000 001011 101111 111111 000111 000001 110010\n"
          ]
        }
      ]
    },
    {
      "cell_type": "code",
      "source": [
        "# Tabel PC-2 untuk permutasi kunci\n",
        "pc2_table = [14, 17, 11, 24, 1, 5,\n",
        "             3, 28, 15, 6, 21, 10,\n",
        "             23, 19, 12, 4, 26, 8,\n",
        "             16, 7, 27, 20, 13, 2,\n",
        "             41, 52, 31, 37, 47, 55,\n",
        "             30, 40, 51, 45, 33, 48,\n",
        "             44, 49, 39, 56, 34, 53,\n",
        "             46, 42, 50, 36, 29, 32]\n",
        "\n",
        "# Permutasi PC-2 pada blok C1D1\n",
        "K3 = ''.join(C3D3[i - 1] for i in pc2_table)\n",
        "\n",
        "# Tampilkan hasil permutasi PC-2\n",
        "print(\"Subkunci K3:\")\n",
        "print(K3)\n",
        "print()\n",
        "\n",
        "# Tampilkan hasil permutasi PC-2 dengan spasi setiap 7 bit\n",
        "key_pc2_with_spaces3 = ' '.join(K3[i:i + 6] for i in range(0, len(K3), 6))\n",
        "print(\"C3D3 dengan spasi:\")\n",
        "print(\"C3D3 =\",C3D3_with_spaces3)\n",
        "print()\n",
        "print(\"K3 setelah PC-2:\")\n",
        "print(\"K3   =\",key_pc2_with_spaces3)\n"
      ],
      "metadata": {
        "colab": {
          "base_uri": "https://localhost:8080/"
        },
        "id": "dvy1fK7XWTDs",
        "outputId": "b9804ea2-081d-4655-c4da-2d85c21b50b1"
      },
      "execution_count": null,
      "outputs": [
        {
          "output_type": "stream",
          "name": "stdout",
          "text": [
            "Subkunci K3:\n",
            "000110110000001011001111111111000111000001110000\n",
            "\n",
            "C3D3 dengan spasi:\n",
            "C3D3 = 11100001 10011000 01010101 11110010 10101100 11001111 00011110\n",
            "\n",
            "K3 setelah PC-2:\n",
            "K3   = 000110 110000 001011 001111 111111 000111 000001 110000\n"
          ]
        }
      ]
    },
    {
      "cell_type": "code",
      "source": [
        "subkeys1 = [] # menyimpan subkunci K1 hingga K16\n",
        "\n",
        "# Loop untuk setiap putaran\n",
        "for round_num in range(1, num_rounds + 1):\n",
        "    # Blok CnDn\n",
        "    CnDn1 = Cn_k1[round_num] + Dn_k1[round_num]\n",
        "\n",
        "    # Permutasi PC-2 pada blok CnDn\n",
        "    subkey1 = ''.join(CnDn1[i - 1] for i in pc2_table)\n",
        "\n",
        "    # Tambahkan subkunci ke list\n",
        "    subkeys1.append(subkey1)\n",
        "\n",
        "# Tampilkan hasil subkunci K1 hingga K16 dengan spasi setiap 6 bit\n",
        "for i, subkey1 in enumerate(subkeys1, start=1):\n",
        "    subkey_with_spaces = ' '.join(subkey1[j:j + 6] for j in range(0, len(subkey1), 6))\n",
        "    print(f\"Subkunci 1 K{i}:\")\n",
        "    print(subkey_with_spaces)\n",
        "    print()\n"
      ],
      "metadata": {
        "colab": {
          "base_uri": "https://localhost:8080/"
        },
        "id": "f6hrm3R6XEQ2",
        "outputId": "d250e198-6d21-4140-e9b0-fbfe8a02ce4a"
      },
      "execution_count": null,
      "outputs": [
        {
          "output_type": "stream",
          "name": "stdout",
          "text": [
            "Subkunci 1 K1:\n",
            "000110 110000 001011 101111 111111 000111 000001 110010\n",
            "\n",
            "Subkunci 1 K2:\n",
            "011110 011010 111011 011001 110110 111100 100111 100101\n",
            "\n",
            "Subkunci 1 K3:\n",
            "010101 011111 110010 001010 010000 101100 111110 011001\n",
            "\n",
            "Subkunci 1 K4:\n",
            "011100 101010 110111 010110 110110 110011 010100 011101\n",
            "\n",
            "Subkunci 1 K5:\n",
            "011111 001110 110000 000111 111010 110101 001110 101000\n",
            "\n",
            "Subkunci 1 K6:\n",
            "011000 111010 010100 111110 010100 000111 101100 101111\n",
            "\n",
            "Subkunci 1 K7:\n",
            "111011 001000 010010 110111 111101 100001 100010 111100\n",
            "\n",
            "Subkunci 1 K8:\n",
            "111101 111000 101000 111010 110000 010011 101111 111011\n",
            "\n",
            "Subkunci 1 K9:\n",
            "111000 001101 101111 101011 111011 011110 011110 000001\n",
            "\n",
            "Subkunci 1 K10:\n",
            "101100 011111 001101 000111 101110 100100 011001 001111\n",
            "\n",
            "Subkunci 1 K11:\n",
            "001000 010101 111111 010011 110111 101101 001110 000110\n",
            "\n",
            "Subkunci 1 K12:\n",
            "011101 010111 000111 110101 100101 000110 011111 101001\n",
            "\n",
            "Subkunci 1 K13:\n",
            "100101 111100 010111 010001 111110 101011 101001 000001\n",
            "\n",
            "Subkunci 1 K14:\n",
            "010111 110100 001110 110111 111100 101110 011100 111010\n",
            "\n",
            "Subkunci 1 K15:\n",
            "101111 111001 000110 001101 001111 010011 111100 001010\n",
            "\n",
            "Subkunci 1 K16:\n",
            "110010 110011 110110 001011 000011 100001 011111 110101\n",
            "\n"
          ]
        }
      ]
    },
    {
      "cell_type": "code",
      "source": [
        "subkeys2 = [] # menyimpan subkunci K1 hingga K16\n",
        "\n",
        "# Loop untuk setiap putaran\n",
        "for round_num in range(1, num_rounds + 1):\n",
        "    # Blok CnDn\n",
        "    CnDn2 = Cn_k2[round_num] + Dn_k2[round_num]\n",
        "\n",
        "    # Permutasi PC-2 pada blok CnDn\n",
        "    subkey2 = ''.join(CnDn2[i - 1] for i in pc2_table)\n",
        "\n",
        "    # Tambahkan subkunci ke list\n",
        "    subkeys2.append(subkey2)\n",
        "\n",
        "# Tampilkan hasil subkunci K1 hingga K16 dengan spasi setiap 6 bit\n",
        "for i, subkey2 in enumerate(subkeys2, start=1):\n",
        "    subkey_with_spaces2 = ' '.join(subkey2[j:j + 6] for j in range(0, len(subkey2), 6))\n",
        "    print(f\"Subkunci 2 K{i}:\")\n",
        "    print(subkey_with_spaces2)\n",
        "    print()\n"
      ],
      "metadata": {
        "colab": {
          "base_uri": "https://localhost:8080/"
        },
        "id": "fUm03J5PXgMP",
        "outputId": "d86facf6-b69a-42b8-8fc4-ff608fd7f844"
      },
      "execution_count": null,
      "outputs": [
        {
          "output_type": "stream",
          "name": "stdout",
          "text": [
            "Subkunci 2 K1:\n",
            "010110 110000 001011 101111 111111 000111 000001 110010\n",
            "\n",
            "Subkunci 2 K2:\n",
            "011110 011010 111011 111001 110110 111100 100111 100101\n",
            "\n",
            "Subkunci 2 K3:\n",
            "110101 011111 110010 001010 010000 101100 111110 011001\n",
            "\n",
            "Subkunci 2 K4:\n",
            "011100 101010 111111 010110 110110 110011 010100 011101\n",
            "\n",
            "Subkunci 2 K5:\n",
            "011111 001111 110000 000111 111010 110101 001110 101000\n",
            "\n",
            "Subkunci 2 K6:\n",
            "011000 111010 010101 111110 010100 000111 101100 101111\n",
            "\n",
            "Subkunci 2 K7:\n",
            "111011 001100 010010 110111 111101 100001 100010 111100\n",
            "\n",
            "Subkunci 2 K8:\n",
            "111101 111000 101100 111010 110000 010011 101111 111011\n",
            "\n",
            "Subkunci 2 K9:\n",
            "111000 101101 101111 101011 111011 011110 011110 000001\n",
            "\n",
            "Subkunci 2 K10:\n",
            "101110 011111 001101 000111 101110 100100 011001 001111\n",
            "\n",
            "Subkunci 2 K11:\n",
            "001000 010101 111111 011011 110111 101101 001110 000110\n",
            "\n",
            "Subkunci 2 K12:\n",
            "011101 010111 000111 110101 100101 000110 011111 101001\n",
            "\n",
            "Subkunci 2 K13:\n",
            "100101 111100 110111 010001 111110 101011 101001 000001\n",
            "\n",
            "Subkunci 2 K14:\n",
            "010111 110110 001110 110111 111100 101110 011100 111010\n",
            "\n",
            "Subkunci 2 K15:\n",
            "101111 111001 010110 001101 001111 010011 111100 001010\n",
            "\n",
            "Subkunci 2 K16:\n",
            "110010 110011 110110 001011 000011 100001 011111 110101\n",
            "\n"
          ]
        }
      ]
    },
    {
      "cell_type": "code",
      "source": [
        "subkeys3 = [] # menyimpan subkunci K1 hingga K16\n",
        "\n",
        "# Loop untuk setiap putaran\n",
        "for round_num in range(1, num_rounds + 1):\n",
        "    # Blok CnDn\n",
        "    CnDn3 = Cn_k3[round_num] + Dn_k3[round_num]\n",
        "\n",
        "    # Permutasi PC-2 pada blok CnDn\n",
        "    subkey3 = ''.join(CnDn3[i - 1] for i in pc2_table)\n",
        "\n",
        "    # Tambahkan subkunci ke list\n",
        "    subkeys3.append(subkey3)\n",
        "\n",
        "# Tampilkan hasil subkunci K1 hingga K16 dengan spasi setiap 6 bit\n",
        "for i, subkey3 in enumerate(subkeys3, start=1):\n",
        "    subkey_with_spaces3 = ' '.join(subkey3[j:j + 6] for j in range(0, len(subkey3), 6))\n",
        "    print(f\"Subkunci 3 K{i}:\")\n",
        "    print(subkey_with_spaces3)\n",
        "    print()\n"
      ],
      "metadata": {
        "colab": {
          "base_uri": "https://localhost:8080/"
        },
        "id": "m1ZLApJCXluA",
        "outputId": "497b9795-fcdd-487c-c2b7-489bf700d863"
      },
      "execution_count": null,
      "outputs": [
        {
          "output_type": "stream",
          "name": "stdout",
          "text": [
            "Subkunci 3 K1:\n",
            "000110 110000 001011 001111 111111 000111 000001 110000\n",
            "\n",
            "Subkunci 3 K2:\n",
            "011110 010010 111011 011001 110110 111100 100011 100101\n",
            "\n",
            "Subkunci 3 K3:\n",
            "010101 011111 110010 001000 010000 101100 111110 011001\n",
            "\n",
            "Subkunci 3 K4:\n",
            "010100 101010 110111 010110 100110 110011 010100 011101\n",
            "\n",
            "Subkunci 3 K5:\n",
            "011111 001110 110000 000111 111010 110101 001110 100000\n",
            "\n",
            "Subkunci 3 K6:\n",
            "011000 111010 010100 101110 010100 000110 101100 101111\n",
            "\n",
            "Subkunci 3 K7:\n",
            "111010 001000 010010 110111 111101 100001 100010 011100\n",
            "\n",
            "Subkunci 3 K8:\n",
            "111101 011000 101000 111010 110000 010011 001111 111011\n",
            "\n",
            "Subkunci 3 K9:\n",
            "111000 001101 101111 101010 111011 011110 011110 000001\n",
            "\n",
            "Subkunci 3 K10:\n",
            "101100 001111 001101 000111 001110 100100 011001 001111\n",
            "\n",
            "Subkunci 3 K11:\n",
            "001000 010101 111101 010011 110111 101101 000110 000110\n",
            "\n",
            "Subkunci 3 K12:\n",
            "011001 010111 000111 110101 100001 000110 011111 101001\n",
            "\n",
            "Subkunci 3 K13:\n",
            "100101 111100 010111 010001 111110 101011 101001 000001\n",
            "\n",
            "Subkunci 3 K14:\n",
            "010111 110100 001110 110011 111100 101100 011100 111010\n",
            "\n",
            "Subkunci 3 K15:\n",
            "101111 111001 000110 001101 000111 010011 111100 001010\n",
            "\n",
            "Subkunci 3 K16:\n",
            "100010 110011 110110 001011 000011 000001 011111 110101\n",
            "\n"
          ]
        }
      ]
    },
    {
      "cell_type": "code",
      "source": [
        "expansion_table = [32, 1, 2, 3, 4, 5,\n",
        "                   4, 5, 6, 7, 8, 9,\n",
        "                   8, 9, 10, 11, 12, 13,\n",
        "                   12, 13, 14, 15, 16, 17,\n",
        "                   16, 17, 18, 19, 20, 21,\n",
        "                   20, 21, 22, 23, 24, 25,\n",
        "                   24, 25, 26, 27, 28, 29,\n",
        "                   28, 29, 30, 31, 32, 1]\n",
        "\n",
        "expanded_R0 = ''.join(R0[i - 1] for i in expansion_table)\n",
        "\n",
        "# Tampilkan hasil ekspansi blok R0\n",
        "print(\"E(R0):\")\n",
        "print(expanded_R0)"
      ],
      "metadata": {
        "id": "arN9SfDRYkud",
        "colab": {
          "base_uri": "https://localhost:8080/"
        },
        "outputId": "8a78e8ae-b717-4890-d4d7-961fcad0a1fd"
      },
      "execution_count": null,
      "outputs": [
        {
          "output_type": "stream",
          "name": "stdout",
          "text": [
            "E(R0):\n",
            "100000000000000000000000000000001101010000000110\n"
          ]
        }
      ]
    },
    {
      "cell_type": "code",
      "source": [
        "# Fungsi XOR\n",
        "A1 = ''\n",
        "for i in range(len(expanded_R0)):\n",
        "    if(expanded_R0[i]==K1[i]):\n",
        "        A1+='0'\n",
        "    else:\n",
        "        A1+='1'\n",
        "\n",
        "# Tampilkan hasil XOR (vektor A1)\n",
        "print(\"Hasil XOR (vektor A1):\")\n",
        "print(A1)"
      ],
      "metadata": {
        "colab": {
          "base_uri": "https://localhost:8080/"
        },
        "id": "asuPsTW3kr_L",
        "outputId": "681a692d-80f3-4da1-92ea-c4bd25a76047"
      },
      "execution_count": null,
      "outputs": [
        {
          "output_type": "stream",
          "name": "stdout",
          "text": [
            "Hasil XOR (vektor A1):\n",
            "100110110000001011101111111111001010010001110100\n"
          ]
        }
      ]
    },
    {
      "cell_type": "code",
      "source": [
        "s_box = [\n",
        "         [\n",
        "         [ 14, 4, 13, 1, 2, 15, 11, 8, 3, 10, 6, 12, 5, 9, 0, 7],\n",
        "         [ 0, 15, 7, 4, 14, 2, 13, 1, 10, 6, 12, 11, 9, 5, 3, 8],\n",
        "         [ 4, 1, 14, 8, 13, 6, 2, 11, 15, 12, 9, 7, 3, 10, 5, 0],\n",
        "         [ 15, 12, 8, 2, 4, 9, 1, 7, 5, 11, 3, 14, 10, 0, 6, 13]\n",
        "         ],\n",
        "        [\n",
        "         [ 15, 1, 8, 14, 6, 11, 3, 4, 9, 7, 2, 13, 12, 0, 5, 10],\n",
        "         [ 3, 13, 4, 7, 15, 2, 8, 14, 12, 0, 1, 10, 6, 9, 11, 5],\n",
        "         [ 0, 14, 7, 11, 10, 4, 13, 1, 5, 8, 12, 6, 9, 3, 2, 15],\n",
        "         [ 13, 8, 10, 1, 3, 15, 4, 2, 11, 6, 7, 12, 0, 5, 14, 9]\n",
        "        ],\n",
        "        [\n",
        "         [ 10, 0, 9, 14, 6, 3, 15, 5, 1, 13, 12, 7, 11, 4, 2, 8],\n",
        "         [ 13, 7, 0, 9, 3, 4, 6, 10, 2, 8, 5, 14, 12, 11, 15, 1],\n",
        "         [ 13, 6, 4, 9, 8, 15, 3, 0, 11, 1, 2, 12, 5, 10, 14, 7],\n",
        "         [ 1, 10, 13, 0, 6, 9, 8, 7, 4, 15, 14, 3, 11, 5, 2, 12]\n",
        "        ],\n",
        "        [\n",
        "         [ 7, 13, 14, 3, 0, 6, 9, 10, 1, 2, 8, 5, 11, 12, 4, 15],\n",
        "         [ 13, 8, 11, 5, 6, 15, 0, 3, 4, 7, 2, 12, 1, 10, 14, 9],\n",
        "         [ 10, 6, 9, 0, 12, 11, 7, 13, 15, 1, 3, 14, 5, 2, 8, 4],\n",
        "         [ 3, 15, 0, 6, 10, 1, 13, 8, 9, 4, 5, 11, 12, 7, 2, 14]\n",
        "        ],\n",
        "        [\n",
        "         [ 2, 12, 4, 1, 7, 10, 11, 6, 8, 5, 3, 15, 13, 0, 14, 9],\n",
        "         [ 14, 11, 2, 12, 4, 7, 13, 1, 5, 0, 15, 10, 3, 9, 8, 6],\n",
        "         [ 4, 2, 1, 11, 10, 13, 7, 8, 15, 9, 12, 5, 6, 3, 0, 14],\n",
        "         [ 11, 8, 12, 7, 1, 14, 2, 13, 6, 15, 0, 9, 10, 4, 5, 3]\n",
        "        ],\n",
        "        [\n",
        "         [ 12, 1, 10, 15, 9, 2, 6, 8, 0, 13, 3, 4, 14, 7, 5, 11],\n",
        "         [ 10, 15, 4, 2, 7, 12, 9, 5, 6, 1, 13, 14, 0, 11, 3, 8],\n",
        "         [ 9, 14, 15, 5, 2, 8, 12, 3, 7, 0, 4, 10, 1, 13, 11, 6],\n",
        "         [ 4, 3, 2, 12, 9, 5, 15, 10, 11, 14, 1, 7, 6, 0, 8, 13]\n",
        "        ],\n",
        "        [\n",
        "         [ 4, 11, 2, 14, 15, 0, 8, 13, 3, 12, 9, 7, 5, 10, 6, 1],\n",
        "         [ 13, 0, 11, 7, 4, 9, 1, 10, 14, 3, 5, 12, 2, 15, 8, 6],\n",
        "         [ 1, 4, 11, 13, 12, 3, 7, 14, 10, 15, 6, 8, 0, 5, 9, 2],\n",
        "         [ 6, 11, 13, 8, 1, 4, 10, 7, 9, 5, 0, 15, 14, 2, 3, 12]\n",
        "        ],\n",
        "        [\n",
        "         [13, 2, 8, 4, 6, 15, 11, 1, 10, 9, 3, 14, 5, 0, 12, 7],\n",
        "         [1, 15, 13, 8, 10, 3, 7, 4, 12, 5, 6, 11, 0, 14, 9, 2],\n",
        "         [7, 11, 4, 1, 9, 12, 14, 2, 0, 6, 10, 13, 15, 3, 5, 8],\n",
        "         [2, 1, 14, 7, 4, 10, 8, 13, 15, 12, 9, 0, 3, 5, 6, 11]\n",
        "        ]\n",
        "      ]"
      ],
      "metadata": {
        "id": "zcBSNedLlFTA"
      },
      "execution_count": null,
      "outputs": []
    },
    {
      "cell_type": "code",
      "source": [
        "subgroups = [A1[i:i + 6] for i in range(0, len(A1), 6)]\n",
        "print(subgroups)"
      ],
      "metadata": {
        "colab": {
          "base_uri": "https://localhost:8080/"
        },
        "id": "lmLeL5HglR9u",
        "outputId": "53c732ac-c443-40d5-8a27-90ffbb574596"
      },
      "execution_count": null,
      "outputs": [
        {
          "output_type": "stream",
          "name": "stdout",
          "text": [
            "['100110', '110000', '001011', '101111', '111111', '001010', '010001', '110100']\n"
          ]
        }
      ]
    },
    {
      "cell_type": "code",
      "source": [
        "B1 = ''\n",
        "for i, subgroup in enumerate(subgroups):\n",
        "    row = int(subgroup[0] + subgroup[-1], 2)\n",
        "    col = int(subgroup[1:5], 2)\n",
        "    substituted_value = format(s_box[i][row][col], '04b')\n",
        "    B1 += substituted_value\n",
        "\n",
        "# Tampilkan hasil substitusi dengan S-Box\n",
        "print(\"Hasil substitusi S-Box:\")\n",
        "print(B1)"
      ],
      "metadata": {
        "colab": {
          "base_uri": "https://localhost:8080/"
        },
        "id": "pwsVhz-NpUqJ",
        "outputId": "cb190b8c-fba9-4541-8194-b9856f7ee58e"
      },
      "execution_count": null,
      "outputs": [
        {
          "output_type": "stream",
          "name": "stdout",
          "text": [
            "Hasil substitusi S-Box:\n",
            "10000101010010000011001011101010\n"
          ]
        }
      ]
    },
    {
      "cell_type": "code",
      "source": [
        "p_box = [16, 7, 20, 21, 29, 12, 28, 17,\n",
        "            1, 15, 23, 26, 5, 18, 31, 10,\n",
        "            2, 8, 24, 14, 32, 27, 3, 9,\n",
        "            19, 13, 30, 6, 22, 11, 4, 25]\n",
        "\n",
        "PB1 = ''.join(B1[i - 1] for i in p_box)\n",
        "\n",
        "# Tampilkan hasil permutasi P-Box\n",
        "print(\"Hasil permutasi P-Box(0):\")\n",
        "print(PB1)"
      ],
      "metadata": {
        "colab": {
          "base_uri": "https://localhost:8080/"
        },
        "id": "8Ym0CvYCplPO",
        "outputId": "4d61501d-0485-457b-95ca-15dc3a8f4e80"
      },
      "execution_count": null,
      "outputs": [
        {
          "output_type": "stream",
          "name": "stdout",
          "text": [
            "Hasil permutasi P-Box(0):\n",
            "00101000101100110100010011010001\n"
          ]
        }
      ]
    },
    {
      "cell_type": "code",
      "source": [
        "R1 = ''\n",
        "for j in range(32):\n",
        "  if(PB1[j] == L0[j]):\n",
        "    R1+='0'\n",
        "  else:\n",
        "    R1+='1'\n",
        "\n",
        "print('R1 : ', R1)"
      ],
      "metadata": {
        "colab": {
          "base_uri": "https://localhost:8080/"
        },
        "id": "xIA14wwpprFB",
        "outputId": "4bf05995-dbcd-46fe-eefa-e9ff569989aa"
      },
      "execution_count": null,
      "outputs": [
        {
          "output_type": "stream",
          "name": "stdout",
          "text": [
            "R1 :  11010111000010110011001010000110\n"
          ]
        }
      ]
    },
    {
      "cell_type": "code",
      "source": [
        "L1 = R0\n",
        "\n",
        "print('L1 : ', L1)"
      ],
      "metadata": {
        "colab": {
          "base_uri": "https://localhost:8080/"
        },
        "id": "EK5LYGzypwkM",
        "outputId": "6a41820e-c34f-4ed7-8d79-edcd561af693"
      },
      "execution_count": null,
      "outputs": [
        {
          "output_type": "stream",
          "name": "stdout",
          "text": [
            "L1 :  00000000000000000000011010000011\n"
          ]
        }
      ]
    },
    {
      "cell_type": "code",
      "source": [
        "def dec_to_bin(n):\n",
        "    binary = bin(n)[2:]\n",
        "    while len(binary) < 4:\n",
        "        binary = '0' + binary\n",
        "    return binary"
      ],
      "metadata": {
        "id": "ArVO-9OcrZwW"
      },
      "execution_count": null,
      "outputs": []
    },
    {
      "cell_type": "code",
      "source": [
        "def bin_to_dec(binary):\n",
        "    decimal, i = 0, 0\n",
        "    binary_str = str(binary)\n",
        "    for bit in binary_str[::-1]:\n",
        "        decimal += int(bit) * (2 ** i)\n",
        "        i += 1\n",
        "    return decimal"
      ],
      "metadata": {
        "id": "0NlphdhoSby9"
      },
      "execution_count": null,
      "outputs": []
    },
    {
      "cell_type": "code",
      "source": [
        "hasilLR = [] # menyimpan nilai L0+R0, L1+R1, ..., L16+R16\n",
        "hasilLR.append(L0 + R0) # Menambahkan L0+R0 ke dalam hasilLR\n",
        "PB = [] # Inisialisasi PB sebagai list yang akan menyimpan nilai P(Bi) pada setiap putaran\n",
        "Li = L1 # Inisialisasi nilai Li dan Ri dengan L1 dan R1\n",
        "Ri = R1\n",
        "\n",
        "for i in range(1, 16): # Iterasi untuk 15 putaran (i dari 1 hingga 15)\n",
        "    ER = ''\n",
        "    R = Ri\n",
        "    # Ekspansi\n",
        "    for j in range(48):\n",
        "        ER += R[expansion_table[j] - 1]\n",
        "\n",
        "    Ai = ''\n",
        "    for k in range(48): # XOR antara ER dan subkeys[i]\n",
        "        if ER[k] == subkeys1[i][k]:\n",
        "            Ai += '0'\n",
        "        else:\n",
        "            Ai += '1'\n",
        "\n",
        "    Bi = ''\n",
        "    # Substitusi dengan S-box\n",
        "    for z in range(0, 8):\n",
        "        row = bin_to_dec(int(Ai[z * 6] + Ai[z * 6 + 5]))\n",
        "        col = bin_to_dec(int(Ai[z * 6 + 1] + Ai[z * 6 + 2] + Ai[z * 6 + 3] + Ai[z * 6 + 4]))\n",
        "        val = s_box[z][row][col]\n",
        "        Bi += dec_to_bin(int(val))\n",
        "\n",
        "    PBi = ''\n",
        "    # Permutasi P-box\n",
        "    for x in range(len(Bi)):\n",
        "        PBi += Bi[p_box[x] - 1]\n",
        "    hasilLR.append(Li + Ri)    # Menambahkan nilai Li+Ri ke dalam hasilLR\n",
        "    print(f\"\\nPERPUTARAN {i}\")\n",
        "    print(f\"P(B{i})  : {PBi}\")\n",
        "    print(f\"L{i}     : {Li}\")\n",
        "    print(f\"R{i}     : {Ri}\")\n",
        "    print(f\"L{i}R{i}   : {Li + Ri}\")\n",
        "    # Menambahkan nilai P(Bi) ke dalam PB\n",
        "    PB.append(PBi)\n",
        "\n",
        "    Ri = ''\n",
        "    # XOR antara PBi dan Li\n",
        "    for c in range(32):\n",
        "        if PBi[c] == Li[c]:\n",
        "            Ri += '0'\n",
        "        else:\n",
        "            Ri += '1'\n",
        "    Li = R\n",
        "    if i == 15:\n",
        "        hasilLR.append(Ri + Li) # Menambahkan nilai Ri+Li ke dalam hasilLR pada putaran ke-16\n",
        "        print(\"\\n---------------------------------------------\")\n",
        "        print(f\"R({i+1})  : {Ri}\")\n",
        "        print(f\"L({i+1})  : {Li}\")\n",
        "        L16 = Ri\n",
        "        R16 = Li\n",
        "        print(f\"L{i+1}R{i+1} : {Ri + Li}\") # Menampilkan nilai L1R1\n"
      ],
      "metadata": {
        "colab": {
          "base_uri": "https://localhost:8080/"
        },
        "id": "ArRHso5xSSmP",
        "outputId": "1feedc70-e06d-420d-fb7f-e280bea0759d"
      },
      "execution_count": null,
      "outputs": [
        {
          "output_type": "stream",
          "name": "stdout",
          "text": [
            "\n",
            "PERPUTARAN 1\n",
            "P(B1)  : 10001011110110011000110000010011\n",
            "L1     : 00000000000000000000011010000011\n",
            "R1     : 11010111000010110011001010000110\n",
            "L1R1   : 0000000000000000000001101000001111010111000010110011001010000110\n",
            "\n",
            "PERPUTARAN 2\n",
            "P(B2)  : 01101111101100101001110011111110\n",
            "L2     : 11010111000010110011001010000110\n",
            "R2     : 10001011110110011000101010010000\n",
            "L2R2   : 1101011100001011001100101000011010001011110110011000101010010000\n",
            "\n",
            "PERPUTARAN 3\n",
            "P(B3)  : 00111111001110110100011110100001\n",
            "L3     : 10001011110110011000101010010000\n",
            "R3     : 10111000101110011010111001111000\n",
            "L3R3   : 1000101111011001100010101001000010111000101110011010111001111000\n",
            "\n",
            "PERPUTARAN 4\n",
            "P(B4)  : 10010101001100101101100001000101\n",
            "L4     : 10111000101110011010111001111000\n",
            "R4     : 10110100111000101100110100110001\n",
            "L4R4   : 1011100010111001101011100111100010110100111000101100110100110001\n",
            "\n",
            "PERPUTARAN 5\n",
            "P(B5)  : 00100100000110111111001111111000\n",
            "L5     : 10110100111000101100110100110001\n",
            "R5     : 00101101100010110111011000111101\n",
            "L5R5   : 1011010011100010110011010011000100101101100010110111011000111101\n",
            "\n",
            "PERPUTARAN 6\n",
            "P(B6)  : 11001000110000011110111001101100\n",
            "L6     : 00101101100010110111011000111101\n",
            "R6     : 10010000111110010011111011001001\n",
            "L6R6   : 0010110110001011011101100011110110010000111110010011111011001001\n",
            "\n",
            "PERPUTARAN 7\n",
            "P(B7)  : 00000111001110010010100101100001\n",
            "L7     : 10010000111110010011111011001001\n",
            "R7     : 11100101010010101001100001010001\n",
            "L7R7   : 1001000011111001001111101100100111100101010010101001100001010001\n",
            "\n",
            "PERPUTARAN 8\n",
            "P(B8)  : 11011001001110111010001110010100\n",
            "L8     : 11100101010010101001100001010001\n",
            "R8     : 10010111110000000001011110101000\n",
            "L8R8   : 1110010101001010100110000101000110010111110000000001011110101000\n",
            "\n",
            "PERPUTARAN 9\n",
            "P(B9)  : 00001100000101010110111000100100\n",
            "L9     : 10010111110000000001011110101000\n",
            "R9     : 00111100011100010011101111000101\n",
            "L9R9   : 1001011111000000000101111010100000111100011100010011101111000101\n",
            "\n",
            "PERPUTARAN 10\n",
            "P(B10)  : 01110001001111101011000001010011\n",
            "L10     : 00111100011100010011101111000101\n",
            "R10     : 10011011110101010111100110001100\n",
            "L10R10   : 0011110001110001001110111100010110011011110101010111100110001100\n",
            "\n",
            "PERPUTARAN 11\n",
            "P(B11)  : 10101000011010001000111011101001\n",
            "L11     : 10011011110101010111100110001100\n",
            "R11     : 01001101010011111000101110010110\n",
            "L11R11   : 1001101111010101011110011000110001001101010011111000101110010110\n",
            "\n",
            "PERPUTARAN 12\n",
            "P(B12)  : 10000110110010111100111111001011\n",
            "L12     : 01001101010011111000101110010110\n",
            "R12     : 00110011101111011111011101100101\n",
            "L12R12   : 0100110101001111100010111001011000110011101111011111011101100101\n",
            "\n",
            "PERPUTARAN 13\n",
            "P(B13)  : 00000101110111010011101001001111\n",
            "L13     : 00110011101111011111011101100101\n",
            "R13     : 11001011100001000100010001011101\n",
            "L13R13   : 0011001110111101111101110110010111001011100001000100010001011101\n",
            "\n",
            "PERPUTARAN 14\n",
            "P(B14)  : 10100101001001101110110011101100\n",
            "L14     : 11001011100001000100010001011101\n",
            "R14     : 00110110011000001100110100101010\n",
            "L14R14   : 1100101110000100010001000101110100110110011000001100110100101010\n",
            "\n",
            "PERPUTARAN 15\n",
            "P(B15)  : 00101001111101110110100011001100\n",
            "L15     : 00110110011000001100110100101010\n",
            "R15     : 01101110101000101010100010110001\n",
            "L15R15   : 0011011001100000110011010010101001101110101000101010100010110001\n",
            "\n",
            "---------------------------------------------\n",
            "R(16)  : 00011111100101111010010111100110\n",
            "L(16)  : 01101110101000101010100010110001\n",
            "L16R16 : 0001111110010111101001011110011001101110101000101010100010110001\n"
          ]
        }
      ]
    },
    {
      "cell_type": "code",
      "source": [
        "def bin_to_dec(binary):\n",
        "    decimal, i = 0, 0\n",
        "    binary_str = str(binary)\n",
        "    for bit in binary_str[::-1]:\n",
        "        decimal += int(bit) * (2 ** i)\n",
        "        i += 1\n",
        "    return decimal"
      ],
      "metadata": {
        "id": "3EVtlSu0reB_"
      },
      "execution_count": null,
      "outputs": []
    },
    {
      "cell_type": "code",
      "source": [
        "hasilLR = [] # menyimpan nilai L0+R0, L1+R1, ..., L16+R16\n",
        "hasilLR.append(L0 + R0) # Menambahkan L0+R0 ke dalam hasilLR\n",
        "PB = [] # Inisialisasi PB sebagai list yang akan menyimpan nilai P(Bi) pada setiap putaran\n",
        "Li = L1 # Inisialisasi nilai Li dan Ri dengan L1 dan R1\n",
        "Ri = R1\n",
        "\n",
        "for i in range(1, 16): # Iterasi untuk 15 putaran (i dari 1 hingga 15)\n",
        "    ER = ''\n",
        "    R = Ri\n",
        "    # Ekspansi\n",
        "    for j in range(48):\n",
        "        ER += R[expansion_table[j] - 1]\n",
        "\n",
        "    Ai = ''\n",
        "    for k in range(48): # XOR antara ER dan subkeys[i]\n",
        "        if ER[k] == subkeys1[i][k]:\n",
        "            Ai += '0'\n",
        "        else:\n",
        "            Ai += '1'\n",
        "\n",
        "    Bi = ''\n",
        "    # Substitusi dengan S-box\n",
        "    for z in range(0, 8):\n",
        "        row = bin_to_dec(int(Ai[z * 6] + Ai[z * 6 + 5]))\n",
        "        col = bin_to_dec(int(Ai[z * 6 + 1] + Ai[z * 6 + 2] + Ai[z * 6 + 3] + Ai[z * 6 + 4]))\n",
        "        val = s_box[z][row][col]\n",
        "        Bi += dec_to_bin(int(val))\n",
        "\n",
        "    PBi = ''\n",
        "    # Permutasi P-box\n",
        "    for x in range(len(Bi)):\n",
        "        PBi += Bi[p_box[x] - 1]\n",
        "    hasilLR.append(Li + Ri)    # Menambahkan nilai Li+Ri ke dalam hasilLR\n",
        "    print(f\"\\nPERPUTARAN {i}\")\n",
        "    print(f\"P(B{i})  : {PBi}\")\n",
        "    print(f\"L{i}     : {Li}\")\n",
        "    print(f\"R{i}     : {Ri}\")\n",
        "    print(f\"L{i}R{i}   : {Li + Ri}\")\n",
        "    # Menambahkan nilai P(Bi) ke dalam PB\n",
        "    PB.append(PBi)\n",
        "\n",
        "    Ri = ''\n",
        "    # XOR antara PBi dan Li\n",
        "    for c in range(32):\n",
        "        if PBi[c] == Li[c]:\n",
        "            Ri += '0'\n",
        "        else:\n",
        "            Ri += '1'\n",
        "    Li = R\n",
        "    if i == 15:\n",
        "        hasilLR.append(Ri + Li) # Menambahkan nilai Ri+Li ke dalam hasilLR pada putaran ke-16\n",
        "        print(\"\\n---------------------------------------------\")\n",
        "        print(f\"R({i+1})  : {Ri}\")\n",
        "        print(f\"L({i+1})  : {Li}\")\n",
        "        L16 = Ri\n",
        "        R16 = Li\n",
        "        print(f\"L{i+1}R{i+1} : {Ri + Li}\") # Menampilkan nilai L1R1\n"
      ],
      "metadata": {
        "colab": {
          "base_uri": "https://localhost:8080/"
        },
        "id": "phGhyEwBrh4F",
        "outputId": "0b566631-a2d8-4e15-ff78-a01ed0528c9c"
      },
      "execution_count": null,
      "outputs": [
        {
          "output_type": "stream",
          "name": "stdout",
          "text": [
            "\n",
            "PERPUTARAN 1\n",
            "P(B1)  : 10001011110110011000110000010011\n",
            "L1     : 00000000000000000000011010000011\n",
            "R1     : 11010111000010110011001010000110\n",
            "L1R1   : 0000000000000000000001101000001111010111000010110011001010000110\n",
            "\n",
            "PERPUTARAN 2\n",
            "P(B2)  : 01101111101100101001110011111110\n",
            "L2     : 11010111000010110011001010000110\n",
            "R2     : 10001011110110011000101010010000\n",
            "L2R2   : 1101011100001011001100101000011010001011110110011000101010010000\n",
            "\n",
            "PERPUTARAN 3\n",
            "P(B3)  : 00111111001110110100011110100001\n",
            "L3     : 10001011110110011000101010010000\n",
            "R3     : 10111000101110011010111001111000\n",
            "L3R3   : 1000101111011001100010101001000010111000101110011010111001111000\n",
            "\n",
            "PERPUTARAN 4\n",
            "P(B4)  : 10010101001100101101100001000101\n",
            "L4     : 10111000101110011010111001111000\n",
            "R4     : 10110100111000101100110100110001\n",
            "L4R4   : 1011100010111001101011100111100010110100111000101100110100110001\n",
            "\n",
            "PERPUTARAN 5\n",
            "P(B5)  : 00100100000110111111001111111000\n",
            "L5     : 10110100111000101100110100110001\n",
            "R5     : 00101101100010110111011000111101\n",
            "L5R5   : 1011010011100010110011010011000100101101100010110111011000111101\n",
            "\n",
            "PERPUTARAN 6\n",
            "P(B6)  : 11001000110000011110111001101100\n",
            "L6     : 00101101100010110111011000111101\n",
            "R6     : 10010000111110010011111011001001\n",
            "L6R6   : 0010110110001011011101100011110110010000111110010011111011001001\n",
            "\n",
            "PERPUTARAN 7\n",
            "P(B7)  : 00000111001110010010100101100001\n",
            "L7     : 10010000111110010011111011001001\n",
            "R7     : 11100101010010101001100001010001\n",
            "L7R7   : 1001000011111001001111101100100111100101010010101001100001010001\n",
            "\n",
            "PERPUTARAN 8\n",
            "P(B8)  : 11011001001110111010001110010100\n",
            "L8     : 11100101010010101001100001010001\n",
            "R8     : 10010111110000000001011110101000\n",
            "L8R8   : 1110010101001010100110000101000110010111110000000001011110101000\n",
            "\n",
            "PERPUTARAN 9\n",
            "P(B9)  : 00001100000101010110111000100100\n",
            "L9     : 10010111110000000001011110101000\n",
            "R9     : 00111100011100010011101111000101\n",
            "L9R9   : 1001011111000000000101111010100000111100011100010011101111000101\n",
            "\n",
            "PERPUTARAN 10\n",
            "P(B10)  : 01110001001111101011000001010011\n",
            "L10     : 00111100011100010011101111000101\n",
            "R10     : 10011011110101010111100110001100\n",
            "L10R10   : 0011110001110001001110111100010110011011110101010111100110001100\n",
            "\n",
            "PERPUTARAN 11\n",
            "P(B11)  : 10101000011010001000111011101001\n",
            "L11     : 10011011110101010111100110001100\n",
            "R11     : 01001101010011111000101110010110\n",
            "L11R11   : 1001101111010101011110011000110001001101010011111000101110010110\n",
            "\n",
            "PERPUTARAN 12\n",
            "P(B12)  : 10000110110010111100111111001011\n",
            "L12     : 01001101010011111000101110010110\n",
            "R12     : 00110011101111011111011101100101\n",
            "L12R12   : 0100110101001111100010111001011000110011101111011111011101100101\n",
            "\n",
            "PERPUTARAN 13\n",
            "P(B13)  : 00000101110111010011101001001111\n",
            "L13     : 00110011101111011111011101100101\n",
            "R13     : 11001011100001000100010001011101\n",
            "L13R13   : 0011001110111101111101110110010111001011100001000100010001011101\n",
            "\n",
            "PERPUTARAN 14\n",
            "P(B14)  : 10100101001001101110110011101100\n",
            "L14     : 11001011100001000100010001011101\n",
            "R14     : 00110110011000001100110100101010\n",
            "L14R14   : 1100101110000100010001000101110100110110011000001100110100101010\n",
            "\n",
            "PERPUTARAN 15\n",
            "P(B15)  : 00101001111101110110100011001100\n",
            "L15     : 00110110011000001100110100101010\n",
            "R15     : 01101110101000101010100010110001\n",
            "L15R15   : 0011011001100000110011010010101001101110101000101010100010110001\n",
            "\n",
            "---------------------------------------------\n",
            "R(16)  : 00011111100101111010010111100110\n",
            "L(16)  : 01101110101000101010100010110001\n",
            "L16R16 : 0001111110010111101001011110011001101110101000101010100010110001\n"
          ]
        }
      ]
    },
    {
      "cell_type": "code",
      "source": [
        "print(\"List Hasil L1R1 - L16R16\")\n",
        "for i, lr in enumerate(hasilLR, start=0):\n",
        "    spaced_lr = ' '.join(lr[j:j+8] for j in range(0, len(lr), 8))\n",
        "    print(f\"L{i}R{i}:\\t {spaced_lr}\")"
      ],
      "metadata": {
        "colab": {
          "base_uri": "https://localhost:8080/"
        },
        "id": "B7OrHtwbRgfX",
        "outputId": "3ea7bb1b-e60d-4e05-cdb4-ef28ea0bcf6a"
      },
      "execution_count": null,
      "outputs": [
        {
          "output_type": "stream",
          "name": "stdout",
          "text": [
            "List Hasil L1R1 - L16R16\n",
            "L0R0:\t 11111111 10111000 01110110 01010111 00000000 00000000 00000110 10000011\n",
            "L1R1:\t 00000000 00000000 00000110 10000011 11010111 00001011 00110010 10000110\n",
            "L2R2:\t 11010111 00001011 00110010 10000110 10001011 11011001 10001010 10010000\n",
            "L3R3:\t 10001011 11011001 10001010 10010000 10111000 10111001 10101110 01111000\n",
            "L4R4:\t 10111000 10111001 10101110 01111000 10110100 11100010 11001101 00110001\n",
            "L5R5:\t 10110100 11100010 11001101 00110001 00101101 10001011 01110110 00111101\n",
            "L6R6:\t 00101101 10001011 01110110 00111101 10010000 11111001 00111110 11001001\n",
            "L7R7:\t 10010000 11111001 00111110 11001001 11100101 01001010 10011000 01010001\n",
            "L8R8:\t 11100101 01001010 10011000 01010001 10010111 11000000 00010111 10101000\n",
            "L9R9:\t 10010111 11000000 00010111 10101000 00111100 01110001 00111011 11000101\n",
            "L10R10:\t 00111100 01110001 00111011 11000101 10011011 11010101 01111001 10001100\n",
            "L11R11:\t 10011011 11010101 01111001 10001100 01001101 01001111 10001011 10010110\n",
            "L12R12:\t 01001101 01001111 10001011 10010110 00110011 10111101 11110111 01100101\n",
            "L13R13:\t 00110011 10111101 11110111 01100101 11001011 10000100 01000100 01011101\n",
            "L14R14:\t 11001011 10000100 01000100 01011101 00110110 01100000 11001101 00101010\n",
            "L15R15:\t 00110110 01100000 11001101 00101010 01101110 10100010 10101000 10110001\n",
            "L16R16:\t 00011111 10010111 10100101 11100110 01101110 10100010 10101000 10110001\n"
          ]
        }
      ]
    },
    {
      "cell_type": "code",
      "source": [
        "chiper_permutasi = [40, 8, 48, 16, 56, 24, 64, 32,\n",
        "                    39, 7, 47, 15, 55, 23, 63, 31,\n",
        "                    38, 6, 46, 14, 54, 22, 62, 30,\n",
        "                    37, 5, 45, 13, 53, 21, 61, 29,\n",
        "                    36, 4, 44, 12, 52, 20, 60, 28,\n",
        "                    35, 3, 43, 11, 51, 19, 59, 27,\n",
        "                    34, 2, 42, 10, 50, 18, 58, 26,\n",
        "                    33, 1, 41, 9, 49, 17, 57, 25 ]\n",
        "\n",
        "cipher_k1 = ''\n",
        "hasilLR[16] = hasilLR[16].replace(\" \",\"\")\n",
        "for i in range(64):\n",
        "  cipher_k1 += hasilLR[16][chiper_permutasi[i]-1]\n",
        "cipher_spaces = ' '.join([cipher_k1[i:i+8] for i in range(0, len(cipher_k1), 8)])\n",
        "\n",
        "print('Enkripsi K1 : ', cipher_spaces)"
      ],
      "metadata": {
        "id": "n6rFF_r-S1_E",
        "outputId": "9dcd40d6-b7c5-4524-c645-8e9ed03929f5",
        "colab": {
          "base_uri": "https://localhost:8080/"
        }
      },
      "execution_count": null,
      "outputs": [
        {
          "output_type": "stream",
          "name": "stdout",
          "text": [
            "Enkripsi K1 :  01010110 11110001 11010101 11001000 01010010 10101111 10000001 00111111\n"
          ]
        }
      ]
    },
    {
      "cell_type": "markdown",
      "source": [
        "Enkripsi K2 Memakai Cipher K1"
      ],
      "metadata": {
        "id": "DN1aWxpehsHo"
      }
    },
    {
      "cell_type": "code",
      "source": [
        "cipher_k1_ip = ''.join([cipher_k1[i - 1] for i in ip_table])\n",
        "print('Permutasi Awal : ', cipher_k1_ip)"
      ],
      "metadata": {
        "colab": {
          "base_uri": "https://localhost:8080/"
        },
        "id": "Vwft7-niUimy",
        "outputId": "f84ff07c-1d2f-4bce-c1d2-3c4c4a7f2031"
      },
      "execution_count": null,
      "outputs": [
        {
          "output_type": "stream",
          "name": "stdout",
          "text": [
            "Permutasi Awal :  0001111110010111101001011110011001101110101000101010100010110001\n"
          ]
        }
      ]
    },
    {
      "cell_type": "code",
      "source": [
        "cipher_k1_ip_space = ' '.join([cipher_k1_ip[i:i+8] for i in range(0, len(cipher_k1_ip), 8)]) # Mengelompokkan setiap 8 bit menjadi satu byte dan menambahkan spasi sebagai pemisah\n",
        "\n",
        "print(\"Inisial Permutasion:\", cipher_k1_ip_space)"
      ],
      "metadata": {
        "colab": {
          "base_uri": "https://localhost:8080/"
        },
        "id": "butrMGcGVi1h",
        "outputId": "cc13ee1e-3e1c-4532-8c5d-d5ee0be582bf"
      },
      "execution_count": null,
      "outputs": [
        {
          "output_type": "stream",
          "name": "stdout",
          "text": [
            "Inisial Permutasion: 00011111 10010111 10100101 11100110 01101110 10100010 10101000 10110001\n"
          ]
        }
      ]
    },
    {
      "cell_type": "code",
      "source": [
        "# Menentukan panjang setengah dari Plainteks setelah permutasi awal (IP). Ini dilakukan untuk membagi plaintext menjadi dua bagian, L0 dan R0.\n",
        "half_length2 = len(cipher_k1_ip) // 2\n",
        "L0_cipher = cipher_k1_ip[:half_length2] #Mengambil bagian kiri (L0) dari plaintext, yaitu substring dari indeks 0 hingga half_length - 1.\n",
        "R0_cipher = cipher_k1_ip[half_length2:] #Mengambil bagian kanan (R0) dari plaintext, yaitu substring dari indeks half_length hingga akhir.\n",
        "\n",
        "# Output L0 dan R0\n",
        "print(\"L0_cipher (Left 32 bits) :\", L0_cipher)\n",
        "print(\"R0_cipher (Right 32 bits):\", R0_cipher)"
      ],
      "metadata": {
        "colab": {
          "base_uri": "https://localhost:8080/"
        },
        "id": "OoyXqxHT9hHM",
        "outputId": "766a0459-fe74-4d5e-c5e0-0581a8fdaca4"
      },
      "execution_count": null,
      "outputs": [
        {
          "output_type": "stream",
          "name": "stdout",
          "text": [
            "L0_cipher (Left 32 bits) : 00011111100101111010010111100110\n",
            "R0_cipher (Right 32 bits): 01101110101000101010100010110001\n"
          ]
        }
      ]
    },
    {
      "cell_type": "code",
      "source": [
        "expanded_R0_cipher = ''.join(R0_cipher[i - 1] for i in expansion_table)\n",
        "\n",
        "# Tampilkan hasil ekspansi blok R0\n",
        "print(\"E(R0_cipher):\")\n",
        "print(expanded_R0_cipher)"
      ],
      "metadata": {
        "id": "Y-RxQgRO89FL",
        "colab": {
          "base_uri": "https://localhost:8080/"
        },
        "outputId": "0c5441be-7e0a-4c62-c526-ed88bd8f3ca5"
      },
      "execution_count": null,
      "outputs": [
        {
          "output_type": "stream",
          "name": "stdout",
          "text": [
            "E(R0_cipher):\n",
            "101101011101010100000101010101010001010110100010\n"
          ]
        }
      ]
    },
    {
      "cell_type": "markdown",
      "source": [
        "**Proses Hasil XOR antara Kunci2 dengan E(R0_k1)**"
      ],
      "metadata": {
        "id": "Wc8sGHdDATju"
      }
    },
    {
      "cell_type": "code",
      "source": [
        "# Fungsi XOR\n",
        "A2 = ''\n",
        "for i in range(len(expanded_R0_cipher)):\n",
        "    if(expanded_R0_cipher[i]==K2[i]):\n",
        "        A2+='0'\n",
        "    else:\n",
        "        A2+='1'\n",
        "\n",
        "# Tampilkan hasil XOR (vektor A1)\n",
        "print(\"Hasil XOR (vektor A2):\")\n",
        "print(A2)"
      ],
      "metadata": {
        "colab": {
          "base_uri": "https://localhost:8080/"
        },
        "id": "Ww3gTiUDAHyl",
        "outputId": "ed33d261-736c-4213-e032-a1cbc0446c1e"
      },
      "execution_count": null,
      "outputs": [
        {
          "output_type": "stream",
          "name": "stdout",
          "text": [
            "Hasil XOR (vektor A2):\n",
            "111011101101011111101010101010010110010111010000\n"
          ]
        }
      ]
    },
    {
      "cell_type": "code",
      "source": [
        "subgroups2 = [A2[i:i + 6] for i in range(0, len(A2), 6)]\n",
        "print(subgroups2)"
      ],
      "metadata": {
        "colab": {
          "base_uri": "https://localhost:8080/"
        },
        "id": "r00zGS9_AxDw",
        "outputId": "cd0ab993-b08a-4fd7-f925-3faf1e6832bd"
      },
      "execution_count": null,
      "outputs": [
        {
          "output_type": "stream",
          "name": "stdout",
          "text": [
            "['111011', '101101', '011111', '101010', '101010', '010110', '010111', '010000']\n"
          ]
        }
      ]
    },
    {
      "cell_type": "code",
      "source": [
        "B1_k2 = ''\n",
        "for i, subgroup in enumerate(subgroups2):\n",
        "    row = int(subgroup[0] + subgroup[-1], 2)\n",
        "    col = int(subgroup[1:5], 2)\n",
        "    substituted_value = format(s_box[i][row][col], '04b')\n",
        "    B1_k2 += substituted_value\n",
        "\n",
        "# Tampilkan hasil substitusi dengan S-Box\n",
        "print(\"Hasil substitusi S-Box:\")\n",
        "print(B1_k2)"
      ],
      "metadata": {
        "colab": {
          "base_uri": "https://localhost:8080/"
        },
        "id": "lBI51I6IBXlO",
        "outputId": "09540bb8-39dd-40f3-85e9-0bac18b11c5d"
      },
      "execution_count": null,
      "outputs": [
        {
          "output_type": "stream",
          "name": "stdout",
          "text": [
            "Hasil substitusi S-Box:\n",
            "00000100000110111101010011001010\n"
          ]
        }
      ]
    },
    {
      "cell_type": "code",
      "source": [
        "PB2 = ''.join(B1_k2[i - 1] for i in p_box)\n",
        "\n",
        "# Tampilkan hasil permutasi P-Box\n",
        "print(\"Hasil permutasi P-Box(0):\")\n",
        "print(PB2)"
      ],
      "metadata": {
        "colab": {
          "base_uri": "https://localhost:8080/"
        },
        "id": "8vDvEczlCmap",
        "outputId": "0502c3bb-6633-437a-89d7-98c0a56ee409"
      },
      "execution_count": null,
      "outputs": [
        {
          "output_type": "stream",
          "name": "stdout",
          "text": [
            "Hasil permutasi P-Box(0):\n",
            "10101101010101100000000001011001\n"
          ]
        }
      ]
    },
    {
      "cell_type": "code",
      "source": [
        "R1_k2 = ''\n",
        "for j in range(32):\n",
        "  if(PB2[j] == L0_cipher[j]):\n",
        "    R1_k2+='0'\n",
        "  else:\n",
        "    R1_k2+='1'\n",
        "\n",
        "print('R1_k2 : ', R1_k2)"
      ],
      "metadata": {
        "colab": {
          "base_uri": "https://localhost:8080/"
        },
        "id": "CmykTpE9EWA1",
        "outputId": "9df343e7-7cba-45be-b3a0-fc0858768b6d"
      },
      "execution_count": null,
      "outputs": [
        {
          "output_type": "stream",
          "name": "stdout",
          "text": [
            "R1_k2 :  10110010110000011010010110111111\n"
          ]
        }
      ]
    },
    {
      "cell_type": "code",
      "source": [
        "L1_k2 = R0_cipher\n",
        "\n",
        "print('L1_k2 : ', L1_k2)"
      ],
      "metadata": {
        "colab": {
          "base_uri": "https://localhost:8080/"
        },
        "id": "bpYjJ5z9IkRV",
        "outputId": "460330c4-ca04-4468-bea1-ad5cb1eb744b"
      },
      "execution_count": null,
      "outputs": [
        {
          "output_type": "stream",
          "name": "stdout",
          "text": [
            "L1_k2 :  01101110101000101010100010110001\n"
          ]
        }
      ]
    },
    {
      "cell_type": "code",
      "source": [
        "hasilLR_k2 = [] # menyimpan nilai L0+R0, L1+R1, ..., L16+R16\n",
        "hasilLR_k2.append(L0_cipher + R0_cipher) # Menambahkan L0+R0 ke dalam hasilLR\n",
        "PB2 = [] # Inisialisasi PB sebagai list yang akan menyimpan nilai P(Bi) pada setiap putaran\n",
        "Li_k2 = L1_k2 # Inisialisasi nilai Li dan Ri dengan L1 dan R1\n",
        "Ri_k2 = R1_k2\n",
        "\n",
        "for i in range(1, 16): # Iterasi untuk 15 putaran (i dari 1 hingga 15)\n",
        "    ER_k2 = ''\n",
        "    R_k2 = Ri_k2\n",
        "    # Ekspansi\n",
        "    for j in range(48):\n",
        "        ER_k2 += R_k2[expansion_table[j] - 1]\n",
        "\n",
        "    Ai_k2 = ''\n",
        "    for k in range(48): # XOR antara ER dan subkeys[i]\n",
        "        if ER_k2[k] == subkeys2[i][k]:\n",
        "            Ai_k2 += '0'\n",
        "        else:\n",
        "            Ai_k2 += '1'\n",
        "\n",
        "    Bi_k2 = ''\n",
        "    # Substitusi dengan S-box\n",
        "    for z in range(0, 8):\n",
        "        row = bin_to_dec(int(Ai_k2[z * 6] + Ai_k2[z * 6 + 5]))\n",
        "        col = bin_to_dec(int(Ai_k2[z * 6 + 1] + Ai_k2[z * 6 + 2] + Ai_k2[z * 6 + 3] + Ai_k2[z * 6 + 4]))\n",
        "        val = s_box[z][row][col]\n",
        "        Bi_k2 += dec_to_bin(int(val))\n",
        "\n",
        "    PBi_k2 = ''\n",
        "    # Permutasi P-box\n",
        "    for x in range(len(Bi_k2)):\n",
        "        PBi_k2 += Bi_k2[p_box[x] - 1]\n",
        "    hasilLR_k2.append(Li_k2 + Ri_k2)    # Menambahkan nilai Li+Ri ke dalam hasilLR\n",
        "    print(f\"\\nPERPUTARAN {i}\")\n",
        "    print(f\"P(B{i})  : {PBi_k2}\")\n",
        "    print(f\"L{i}     : {Li_k2}\")\n",
        "    print(f\"R{i}     : {Ri_k2}\")\n",
        "    print(f\"L{i}R{i}   : {Li_k2 + Ri_k2}\")\n",
        "    # Menambahkan nilai P(Bi) ke dalam PB\n",
        "    PB2.append(PBi_k2)\n",
        "\n",
        "    Ri_k2 = ''\n",
        "    # XOR antara PBi dan Li\n",
        "    for c in range(32):\n",
        "        if PBi_k2[c] == Li_k2[c]:\n",
        "            Ri_k2 += '0'\n",
        "        else:\n",
        "            Ri_k2 += '1'\n",
        "\n",
        "    Li_k2 = R_k2\n",
        "    if i == 15:\n",
        "        hasilLR_k2.append(Ri_k2 + Li_k2) # Menambahkan nilai Ri+Li ke dalam hasilLR pada putaran ke-16\n",
        "        print(\"\\n---------------------------------------------\")\n",
        "        print(f\"R({i+1})  : {Ri_k2}\")\n",
        "        print(f\"L({i+1})  : {Li_k2}\")\n",
        "        L16_k2 = Ri_k2\n",
        "        R16_k2 = Li_k2\n",
        "        print(f\"L{i+1}R{i+1} : {Ri_k2 + Li_k2}\") # Menampilkan nilai L1R1\n"
      ],
      "metadata": {
        "colab": {
          "base_uri": "https://localhost:8080/"
        },
        "id": "5OgPwyCdI3cS",
        "outputId": "7ae7383c-80e4-41c9-87e8-c5e1dddd5df1"
      },
      "execution_count": null,
      "outputs": [
        {
          "output_type": "stream",
          "name": "stdout",
          "text": [
            "\n",
            "PERPUTARAN 1\n",
            "P(B1)  : 00000011111011001110010100001110\n",
            "L1     : 01101110101000101010100010110001\n",
            "R1     : 10110010110000011010010110111111\n",
            "L1R1   : 0110111010100010101010001011000110110010110000011010010110111111\n",
            "\n",
            "PERPUTARAN 2\n",
            "P(B2)  : 10100100001100101011100110111110\n",
            "L2     : 10110010110000011010010110111111\n",
            "R2     : 01101101010011100100110110111111\n",
            "L2R2   : 1011001011000001101001011011111101101101010011100100110110111111\n",
            "\n",
            "PERPUTARAN 3\n",
            "P(B3)  : 11110111010001100101000011011001\n",
            "L3     : 01101101010011100100110110111111\n",
            "R3     : 00010110111100110001110000000001\n",
            "L3R3   : 0110110101001110010011011011111100010110111100110001110000000001\n",
            "\n",
            "PERPUTARAN 4\n",
            "P(B4)  : 00001001100100110111001011111010\n",
            "L4     : 00010110111100110001110000000001\n",
            "R4     : 10011010000010000001110101100110\n",
            "L4R4   : 0001011011110011000111000000000110011010000010000001110101100110\n",
            "\n",
            "PERPUTARAN 5\n",
            "P(B5)  : 00100110001110000011000110001100\n",
            "L5     : 10011010000010000001110101100110\n",
            "R5     : 00011111011000000110111011111011\n",
            "L5R5   : 1001101000001000000111010110011000011111011000000110111011111011\n",
            "\n",
            "PERPUTARAN 6\n",
            "P(B6)  : 00000000000111010011001111110001\n",
            "L6     : 00011111011000000110111011111011\n",
            "R6     : 10111100001100000010110011101010\n",
            "L6R6   : 0001111101100000011011101111101110111100001100000010110011101010\n",
            "\n",
            "PERPUTARAN 7\n",
            "P(B7)  : 11111111010110010011100000110101\n",
            "L7     : 10111100001100000010110011101010\n",
            "R7     : 00011111011111010101110100001010\n",
            "L7R7   : 1011110000110000001011001110101000011111011111010101110100001010\n",
            "\n",
            "PERPUTARAN 8\n",
            "P(B8)  : 01101010001010100111111011011011\n",
            "L8     : 00011111011111010101110100001010\n",
            "R8     : 01000011011010010001010011011111\n",
            "L8R8   : 0001111101111101010111010000101001000011011010010001010011011111\n",
            "\n",
            "PERPUTARAN 9\n",
            "P(B9)  : 01001011111000001110011011010001\n",
            "L9     : 01000011011010010001010011011111\n",
            "R9     : 01110101010101110010001111010001\n",
            "L9R9   : 0100001101101001000101001101111101110101010101110010001111010001\n",
            "\n",
            "PERPUTARAN 10\n",
            "P(B10)  : 00000000101011001010011000001001\n",
            "L10     : 01110101010101110010001111010001\n",
            "R10     : 00001000100010011111001000001110\n",
            "L10R10   : 0111010101010111001000111101000100001000100010011111001000001110\n",
            "\n",
            "PERPUTARAN 11\n",
            "P(B11)  : 11110111000001011011011011000001\n",
            "L11     : 00001000100010011111001000001110\n",
            "R11     : 01110101111110111000010111011000\n",
            "L11R11   : 0000100010001001111100100000111001110101111110111000010111011000\n",
            "\n",
            "PERPUTARAN 12\n",
            "P(B12)  : 00110000111011110101110100111111\n",
            "L12     : 01110101111110111000010111011000\n",
            "R12     : 11111111100011000100010011001111\n",
            "L12R12   : 0111010111111011100001011101100011111111100011000100010011001111\n",
            "\n",
            "PERPUTARAN 13\n",
            "P(B13)  : 11111100110101101001000011000110\n",
            "L13     : 11111111100011000100010011001111\n",
            "R13     : 01000101000101001101100011100111\n",
            "L13R13   : 1111111110001100010001001100111101000101000101001101100011100111\n",
            "\n",
            "PERPUTARAN 14\n",
            "P(B14)  : 10100011000011000101110010100110\n",
            "L14     : 01000101000101001101100011100111\n",
            "R14     : 00000011010110101101010000001001\n",
            "L14R14   : 0100010100010100110110001110011100000011010110101101010000001001\n",
            "\n",
            "PERPUTARAN 15\n",
            "P(B15)  : 00011000110110010110100100100101\n",
            "L15     : 00000011010110101101010000001001\n",
            "R15     : 11100110000110001000010001000001\n",
            "L15R15   : 0000001101011010110101000000100111100110000110001000010001000001\n",
            "\n",
            "---------------------------------------------\n",
            "R(16)  : 00011011100000111011110100101100\n",
            "L(16)  : 11100110000110001000010001000001\n",
            "L16R16 : 0001101110000011101111010010110011100110000110001000010001000001\n"
          ]
        }
      ]
    },
    {
      "cell_type": "code",
      "source": [
        "print(\"List Hasil L1R1 - L16R16 dari K2\")\n",
        "for i, lr_k2 in enumerate(hasilLR_k2, start=0):\n",
        "    spaced_lr_k2 = ' '.join(lr_k2[j:j+8] for j in range(0, len(lr_k2), 8))\n",
        "    print(f\"L{i}R{i}:\\t {spaced_lr_k2}\")"
      ],
      "metadata": {
        "colab": {
          "base_uri": "https://localhost:8080/"
        },
        "id": "JpfSHd4AOETn",
        "outputId": "9baebdf5-dfaa-4d01-ecbe-ed8f531c4883"
      },
      "execution_count": null,
      "outputs": [
        {
          "output_type": "stream",
          "name": "stdout",
          "text": [
            "List Hasil L1R1 - L16R16 dari K2\n",
            "L0R0:\t 00011111 10010111 10100101 11100110 01101110 10100010 10101000 10110001\n",
            "L1R1:\t 01101110 10100010 10101000 10110001 10110010 11000001 10100101 10111111\n",
            "L2R2:\t 10110010 11000001 10100101 10111111 01101101 01001110 01001101 10111111\n",
            "L3R3:\t 01101101 01001110 01001101 10111111 00010110 11110011 00011100 00000001\n",
            "L4R4:\t 00010110 11110011 00011100 00000001 10011010 00001000 00011101 01100110\n",
            "L5R5:\t 10011010 00001000 00011101 01100110 00011111 01100000 01101110 11111011\n",
            "L6R6:\t 00011111 01100000 01101110 11111011 10111100 00110000 00101100 11101010\n",
            "L7R7:\t 10111100 00110000 00101100 11101010 00011111 01111101 01011101 00001010\n",
            "L8R8:\t 00011111 01111101 01011101 00001010 01000011 01101001 00010100 11011111\n",
            "L9R9:\t 01000011 01101001 00010100 11011111 01110101 01010111 00100011 11010001\n",
            "L10R10:\t 01110101 01010111 00100011 11010001 00001000 10001001 11110010 00001110\n",
            "L11R11:\t 00001000 10001001 11110010 00001110 01110101 11111011 10000101 11011000\n",
            "L12R12:\t 01110101 11111011 10000101 11011000 11111111 10001100 01000100 11001111\n",
            "L13R13:\t 11111111 10001100 01000100 11001111 01000101 00010100 11011000 11100111\n",
            "L14R14:\t 01000101 00010100 11011000 11100111 00000011 01011010 11010100 00001001\n",
            "L15R15:\t 00000011 01011010 11010100 00001001 11100110 00011000 10000100 01000001\n",
            "L16R16:\t 00011011 10000011 10111101 00101100 11100110 00011000 10000100 01000001\n"
          ]
        }
      ]
    },
    {
      "cell_type": "code",
      "source": [
        "cipher_k2 = ''\n",
        "hasilLR_k2[16] = hasilLR_k2[16].replace(\" \",\"\")\n",
        "for i in range(64):\n",
        "  cipher_k2 += hasilLR_k2[16][chiper_permutasi[i]-1]\n",
        "cipher_spaces_k2 = ' '.join([cipher_k2[i:i+8] for i in range(0, len(cipher_k2), 8)])\n",
        "\n",
        "print('Hasil Enkripsi K2 : ', cipher_spaces_k2)\n"
      ],
      "metadata": {
        "colab": {
          "base_uri": "https://localhost:8080/"
        },
        "id": "OmLcQaX7Ql9s",
        "outputId": "c9a726a9-e5d1-4675-f217-417e94318fd0"
      },
      "execution_count": null,
      "outputs": [
        {
          "output_type": "stream",
          "name": "stdout",
          "text": [
            "Hasil Enkripsi K2 :  01010110 11010000 10001101 01100101 01100100 10000101 10000010 10011100\n"
          ]
        }
      ]
    },
    {
      "cell_type": "markdown",
      "source": [
        "Enkripsi K3 Memakai Cipher K2"
      ],
      "metadata": {
        "id": "Kkq13DSBh0v2"
      }
    },
    {
      "cell_type": "code",
      "source": [
        "cipher_k2_ip = ''.join([cipher_k2[i - 1] for i in ip_table])\n",
        "print('Permutasi Awal : ', cipher_k2_ip)"
      ],
      "metadata": {
        "colab": {
          "base_uri": "https://localhost:8080/"
        },
        "id": "EABcZQ8cYgBV",
        "outputId": "6c9fd77f-b4e3-4531-b9e3-8b340a11e400"
      },
      "execution_count": null,
      "outputs": [
        {
          "output_type": "stream",
          "name": "stdout",
          "text": [
            "Permutasi Awal :  0001101110000011101111010010110011100110000110001000010001000001\n"
          ]
        }
      ]
    },
    {
      "cell_type": "code",
      "source": [
        "cipher_k2_ip_space = ' '.join([cipher_k2[i:i+8] for i in range(0, len(cipher_k2), 8)]) # Mengelompokkan setiap 8 bit menjadi satu byte dan menambahkan spasi sebagai pemisah\n",
        "\n",
        "print(\"Inisial Permutasion:\", cipher_k2_ip_space)"
      ],
      "metadata": {
        "colab": {
          "base_uri": "https://localhost:8080/"
        },
        "id": "uyLqL2MoaJQj",
        "outputId": "567959a7-3d97-4638-d786-df870e6d8fb7"
      },
      "execution_count": null,
      "outputs": [
        {
          "output_type": "stream",
          "name": "stdout",
          "text": [
            "Inisial Permutasion: 01010110 11010000 10001101 01100101 01100100 10000101 10000010 10011100\n"
          ]
        }
      ]
    },
    {
      "cell_type": "code",
      "source": [
        "# Menentukan panjang setengah dari Plainteks setelah permutasi awal (IP). Ini dilakukan untuk membagi plaintext menjadi dua bagian, L0 dan R0.\n",
        "half_length3 = len(cipher_k2_ip) // 2\n",
        "L0_cipher2 = cipher_k2_ip[:half_length3] #Mengambil bagian kiri (L0) dari plaintext, yaitu substring dari indeks 0 hingga half_length - 1.\n",
        "R0_cipher2 = cipher_k2_ip[half_length3:] #Mengambil bagian kanan (R0) dari plaintext, yaitu substring dari indeks half_length hingga akhir.\n",
        "\n",
        "# Output L0 dan R0\n",
        "print(\"L0_cipher2 (Left 32 bits) :\", L0_cipher2)\n",
        "print(\"R0_cipher2 (Right 32 bits):\", R0_cipher2)"
      ],
      "metadata": {
        "colab": {
          "base_uri": "https://localhost:8080/"
        },
        "id": "b05OtIyuRTMS",
        "outputId": "3a9b081c-1db7-4ab2-b05e-65979bbe2914"
      },
      "execution_count": null,
      "outputs": [
        {
          "output_type": "stream",
          "name": "stdout",
          "text": [
            "L0_cipher2 (Left 32 bits) : 00011011100000111011110100101100\n",
            "R0_cipher2 (Right 32 bits): 11100110000110001000010001000001\n"
          ]
        }
      ]
    },
    {
      "cell_type": "code",
      "source": [
        "expanded_R0_cipher2 = ''.join(R0_cipher2[i - 1] for i in expansion_table)\n",
        "\n",
        "# Tampilkan hasil ekspansi blok R0\n",
        "print(\"E(R0_cipher k2):\")\n",
        "print(expanded_R0_cipher2)"
      ],
      "metadata": {
        "colab": {
          "base_uri": "https://localhost:8080/"
        },
        "id": "AmKME0nrT0Rk",
        "outputId": "f8730170-61fa-46d8-d8fe-296661775287"
      },
      "execution_count": null,
      "outputs": [
        {
          "output_type": "stream",
          "name": "stdout",
          "text": [
            "E(R0_cipher k2):\n",
            "111100001100000011110001010000001000001000000011\n"
          ]
        }
      ]
    },
    {
      "cell_type": "code",
      "source": [
        "# Fungsi XOR\n",
        "A3 = ''\n",
        "for i in range(len(expanded_R0_cipher2)):\n",
        "    if(expanded_R0_cipher2[i]==K3[i]):\n",
        "        A3+='0'\n",
        "    else:\n",
        "        A3+='1'\n",
        "\n",
        "# Tampilkan hasil XOR (vektor A1)\n",
        "print(\"Hasil XOR (vektor A3):\")\n",
        "print(A3)"
      ],
      "metadata": {
        "colab": {
          "base_uri": "https://localhost:8080/"
        },
        "id": "KqVGh04QVhBx",
        "outputId": "4fe64eee-cb98-4aef-a102-733979a7e918"
      },
      "execution_count": null,
      "outputs": [
        {
          "output_type": "stream",
          "name": "stdout",
          "text": [
            "Hasil XOR (vektor A3):\n",
            "111010111100001000111110101111001111001001110011\n"
          ]
        }
      ]
    },
    {
      "cell_type": "code",
      "source": [
        "subgroups3 = [A3[i:i + 6] for i in range(0, len(A3), 6)]\n",
        "print(subgroups3)"
      ],
      "metadata": {
        "colab": {
          "base_uri": "https://localhost:8080/"
        },
        "id": "lG_k9HQdVqZ4",
        "outputId": "c57b87d7-9656-4594-ad43-26654fb8ee31"
      },
      "execution_count": null,
      "outputs": [
        {
          "output_type": "stream",
          "name": "stdout",
          "text": [
            "['111010', '111100', '001000', '111110', '101111', '001111', '001001', '110011']\n"
          ]
        }
      ]
    },
    {
      "cell_type": "code",
      "source": [
        "B1_k3 = ''\n",
        "for i, subgroup in enumerate(subgroups3):\n",
        "    row = int(subgroup[0] + subgroup[-1], 2)\n",
        "    col = int(subgroup[1:5], 2)\n",
        "    substituted_value = format(s_box[i][row][col], '04b')\n",
        "    B1_k3 += substituted_value\n",
        "\n",
        "# Tampilkan hasil substitusi dengan S-Box\n",
        "print(\"Hasil substitusi S-Box:\")\n",
        "print(B1_k3)"
      ],
      "metadata": {
        "colab": {
          "base_uri": "https://localhost:8080/"
        },
        "id": "dmIMPO_PV72y",
        "outputId": "5e09cbbe-8f93-4b62-f08c-5195a78b292b"
      },
      "execution_count": null,
      "outputs": [
        {
          "output_type": "stream",
          "name": "stdout",
          "text": [
            "Hasil substitusi S-Box:\n",
            "10100010011001001101010101001100\n"
          ]
        }
      ]
    },
    {
      "cell_type": "code",
      "source": [
        "PB3 = ''.join(B1_k3[i - 1] for i in p_box)\n",
        "\n",
        "# Tampilkan hasil permutasi P-Box\n",
        "print(\"Hasil permutasi P-Box(0):\")\n",
        "print(PB3)"
      ],
      "metadata": {
        "colab": {
          "base_uri": "https://localhost:8080/"
        },
        "id": "aQfh9sPBXi-f",
        "outputId": "a97e504b-f22e-4e7f-ebce-f54b3ce79b96"
      },
      "execution_count": null,
      "outputs": [
        {
          "output_type": "stream",
          "name": "stdout",
          "text": [
            "Hasil permutasi P-Box(0):\n",
            "01101001100101010011001000101100\n"
          ]
        }
      ]
    },
    {
      "cell_type": "code",
      "source": [
        "R1_k3 = ''\n",
        "for j in range(32):\n",
        "  if(PB3[j] == L0_cipher2[j]):\n",
        "    R1_k3+='0'\n",
        "  else:\n",
        "    R1_k3+='1'\n",
        "\n",
        "print('R1_k3 : ', R1_k3)"
      ],
      "metadata": {
        "colab": {
          "base_uri": "https://localhost:8080/"
        },
        "id": "4pB0b8lqYo4Q",
        "outputId": "abf170e2-a3df-4624-9d75-edac5c7e3c6c"
      },
      "execution_count": null,
      "outputs": [
        {
          "output_type": "stream",
          "name": "stdout",
          "text": [
            "R1_k3 :  01110010000101101000111100000000\n"
          ]
        }
      ]
    },
    {
      "cell_type": "code",
      "source": [
        "L1_k3 = R0_cipher2\n",
        "\n",
        "print('L1_k2 : ', L1_k2)"
      ],
      "metadata": {
        "colab": {
          "base_uri": "https://localhost:8080/"
        },
        "id": "Vgy6iC5xY12K",
        "outputId": "326e82b1-9539-4244-9ba4-f534ec0c26f7"
      },
      "execution_count": null,
      "outputs": [
        {
          "output_type": "stream",
          "name": "stdout",
          "text": [
            "L1_k2 :  01101110101000101010100010110001\n"
          ]
        }
      ]
    },
    {
      "cell_type": "code",
      "source": [
        "hasilLR_k3 = [] # menyimpan nilai L0+R0, L1+R1, ..., L16+R16\n",
        "hasilLR_k3.append(L0_cipher2 + R0_cipher2) # Menambahkan L0+R0 ke dalam hasilLR\n",
        "PB3 = [] # Inisialisasi PB sebagai list yang akan menyimpan nilai P(Bi) pada setiap putaran\n",
        "Li_k3 = L1_k3 # Inisialisasi nilai Li dan Ri dengan L1 dan R1\n",
        "Ri_k3 = R1_k3\n",
        "\n",
        "for i in range(1, 16): # Iterasi untuk 15 putaran (i dari 1 hingga 15)\n",
        "    ER_k3 = ''\n",
        "    R_k3 = Ri_k3\n",
        "    # Ekspansi\n",
        "    for j in range(48):\n",
        "        ER_k3 += R_k3[expansion_table[j] - 1]\n",
        "\n",
        "    Ai_k3 = ''\n",
        "    for k in range(48): # XOR antara ER dan subkeys[i]\n",
        "        if ER_k3[k] == subkeys3[i][k]:\n",
        "            Ai_k3 += '0'\n",
        "        else:\n",
        "            Ai_k3 += '1'\n",
        "\n",
        "    Bi_k3 = ''\n",
        "    # Substitusi dengan S-box\n",
        "    for z in range(0, 8):\n",
        "        row = bin_to_dec(int(Ai_k3[z * 6] + Ai_k3[z * 6 + 5]))\n",
        "        col = bin_to_dec(int(Ai_k3[z * 6 + 1] + Ai_k3[z * 6 + 2] + Ai_k3[z * 6 + 3] + Ai_k3[z * 6 + 4]))\n",
        "        val = s_box[z][row][col]\n",
        "        Bi_k3 += dec_to_bin(int(val))\n",
        "\n",
        "    PBi_k3 = ''\n",
        "    # Permutasi P-box\n",
        "    for x in range(len(Bi_k3)):\n",
        "        PBi_k3 += Bi_k3[p_box[x] - 1]\n",
        "    hasilLR_k3.append(Li_k3 + Ri_k3)    # Menambahkan nilai Li+Ri ke dalam hasilLR\n",
        "    print(f\"\\nPERPUTARAN {i}\")\n",
        "    print(f\"P(B{i})  : {PBi_k3}\")\n",
        "    print(f\"L{i}     : {Li_k3}\")\n",
        "    print(f\"R{i}     : {Ri_k3}\")\n",
        "    print(f\"L{i}R{i}   : {Li_k3 + Ri_k3}\")\n",
        "    # Menambahkan nilai P(Bi) ke dalam PB\n",
        "    PB3.append(PBi_k3)\n",
        "\n",
        "    Ri_k3 = ''\n",
        "    # XOR antara PBi dan Li\n",
        "    for c in range(32):\n",
        "        if PBi_k3[c] == Li_k3[c]:\n",
        "            Ri_k3 += '0'\n",
        "        else:\n",
        "            Ri_k3 += '1'\n",
        "    Li_k3 = R_k3\n",
        "    if i == 15:\n",
        "        hasilLR_k3.append(Ri_k3 + Li_k3) # Menambahkan nilai Ri+Li ke dalam hasilLR pada putaran ke-16\n",
        "        print(\"\\n---------------------------------------------\")\n",
        "        print(f\"R({i+1})  : {Ri_k3}\")\n",
        "        print(f\"L({i+1})  : {Li_k3}\")\n",
        "        L16_k3 = Ri_k3\n",
        "        R16_k3 = Li_k3\n",
        "        print(f\"L{i+1}R{i+1} : {Ri_k3 + Li_k3}\") # Menampilkan nilai L1R1\n"
      ],
      "metadata": {
        "id": "2Zf6SuUHY9nm",
        "colab": {
          "base_uri": "https://localhost:8080/"
        },
        "outputId": "084a0a6c-9633-478d-a7c6-beac3f1bb5f5"
      },
      "execution_count": null,
      "outputs": [
        {
          "output_type": "stream",
          "name": "stdout",
          "text": [
            "\n",
            "PERPUTARAN 1\n",
            "P(B1)  : 11111100011001100000001110111110\n",
            "L1     : 11100110000110001000010001000001\n",
            "R1     : 01110010000101101000111100000000\n",
            "L1R1   : 1110011000011000100001000100000101110010000101101000111100000000\n",
            "\n",
            "PERPUTARAN 2\n",
            "P(B2)  : 11000010001110101111101010110111\n",
            "L2     : 01110010000101101000111100000000\n",
            "R2     : 00011010011111101000011111111111\n",
            "L2R2   : 0111001000010110100011110000000000011010011111101000011111111111\n",
            "\n",
            "PERPUTARAN 3\n",
            "P(B3)  : 01010101011110100100000011101010\n",
            "L3     : 00011010011111101000011111111111\n",
            "R3     : 10110000001011000111010110110111\n",
            "L3R3   : 0001101001111110100001111111111110110000001011000111010110110111\n",
            "\n",
            "PERPUTARAN 4\n",
            "P(B4)  : 00001110010110101100111011100010\n",
            "L4     : 10110000001011000111010110110111\n",
            "R4     : 01001111000001001100011100010101\n",
            "L4R4   : 1011000000101100011101011011011101001111000001001100011100010101\n",
            "\n",
            "PERPUTARAN 5\n",
            "P(B5)  : 01101001001110011010011011011011\n",
            "L5     : 01001111000001001100011100010101\n",
            "R5     : 10111110011101101011101101010101\n",
            "L5R5   : 0100111100000100110001110001010110111110011101101011101101010101\n",
            "\n",
            "PERPUTARAN 6\n",
            "P(B6)  : 00111110001111010000110000101001\n",
            "L6     : 10111110011101101011101101010101\n",
            "R6     : 00100110001111010110000111001110\n",
            "L6R6   : 1011111001110110101110110101010100100110001111010110000111001110\n",
            "\n",
            "PERPUTARAN 7\n",
            "P(B7)  : 10110110000010100001000001010010\n",
            "L7     : 00100110001111010110000111001110\n",
            "R7     : 10000000010010111011011101111100\n",
            "L7R7   : 0010011000111101011000011100111010000000010010111011011101111100\n",
            "\n",
            "PERPUTARAN 8\n",
            "P(B8)  : 00111001010001111001111011110101\n",
            "L8     : 10000000010010111011011101111100\n",
            "R8     : 10010000001101110111000110011100\n",
            "L8R8   : 1000000001001011101101110111110010010000001101110111000110011100\n",
            "\n",
            "PERPUTARAN 9\n",
            "P(B9)  : 11101100001111001010000011111111\n",
            "L9     : 10010000001101110111000110011100\n",
            "R9     : 10111001000011000010100110001001\n",
            "L9R9   : 1001000000110111011100011001110010111001000011000010100110001001\n",
            "\n",
            "PERPUTARAN 10\n",
            "P(B10)  : 00101011010001010011111101111100\n",
            "L10     : 10111001000011000010100110001001\n",
            "R10     : 01111100000010111101000101100011\n",
            "L10R10   : 1011100100001100001010011000100101111100000010111101000101100011\n",
            "\n",
            "PERPUTARAN 11\n",
            "P(B11)  : 01100111110100110011000010011011\n",
            "L11     : 01111100000010111101000101100011\n",
            "R11     : 10010010010010010001011011110101\n",
            "L11R11   : 0111110000001011110100010110001110010010010010010001011011110101\n",
            "\n",
            "PERPUTARAN 12\n",
            "P(B12)  : 01001110111100100000110011100100\n",
            "L12     : 10010010010010010001011011110101\n",
            "R12     : 00011011110110001110000111111000\n",
            "L12R12   : 1001001001001001000101101111010100011011110110001110000111111000\n",
            "\n",
            "PERPUTARAN 13\n",
            "P(B13)  : 10010010011011010000001111001000\n",
            "L13     : 00011011110110001110000111111000\n",
            "R13     : 11011100101110110001101000010001\n",
            "L13R13   : 0001101111011000111000011111100011011100101110110001101000010001\n",
            "\n",
            "PERPUTARAN 14\n",
            "P(B14)  : 00011110001101100000000100011100\n",
            "L14     : 11011100101110110001101000010001\n",
            "R14     : 10001001101101011110001000110000\n",
            "L14R14   : 1101110010111011000110100001000110001001101101011110001000110000\n",
            "\n",
            "PERPUTARAN 15\n",
            "P(B15)  : 01000000101001100011010000011010\n",
            "L15     : 10001001101101011110001000110000\n",
            "R15     : 11000010100011010001101100001101\n",
            "L15R15   : 1000100110110101111000100011000011000010100011010001101100001101\n",
            "\n",
            "---------------------------------------------\n",
            "R(16)  : 11001001000100111101011000101010\n",
            "L(16)  : 11000010100011010001101100001101\n",
            "L16R16 : 1100100100010011110101100010101011000010100011010001101100001101\n"
          ]
        }
      ]
    },
    {
      "cell_type": "markdown",
      "source": [
        "Dekripsi K3 agar kembali menjadi cipher K2"
      ],
      "metadata": {
        "id": "rIIx42lIh8ZZ"
      }
    },
    {
      "cell_type": "code",
      "source": [
        "hasilDec3 = []  #  menyimpan nilai L16+R16, L15+R15, ..., L0+R0\n",
        "Li_k3 = L16_k3       # Inisialisasi nilai Li dan Ri dengan L16 dan R16\n",
        "Ri_k3 = R16_k3\n",
        "LOOPBACK = 15  # Indeks loopback untuk penggunaan kunci subkeys\n",
        "\n",
        "for i in range(16):  # Iterasi untuk 16 putaran (i dari 0 hingga 15)\n",
        "    ER_k3 = ''\n",
        "    R_k3 = Ri_k3\n",
        "\n",
        "    # Ekspansi\n",
        "    for j in range(48):\n",
        "        ER_k3 += R_k3[expansion_table[j] - 1]\n",
        "\n",
        "    Ai_k3 = ''\n",
        "\n",
        "    # XOR antara ER dan subkeys[LOOPBACK]\n",
        "    for k in range(48):\n",
        "        if ER_k3[k] == subkeys3[LOOPBACK][k]:\n",
        "            Ai_k3 += '0'\n",
        "        else:\n",
        "            Ai_k3 += '1'\n",
        "\n",
        "    LOOPBACK -= 1 #digunakan untuk mengakses subkunci dari indeks yang berkurang pada setiap iterasi, sehingga subkunci digunakan secara terbalik.\n",
        "\n",
        "    Bi_k3 = ''\n",
        "\n",
        "    # Substitusi dengan S-box\n",
        "    for z in range(0, 8):\n",
        "        row = bin_to_dec(int(Ai_k3[z * 6] + Ai_k3[z * 6 + 5]))\n",
        "        col = bin_to_dec(int(Ai_k3[z * 6 + 1] + Ai_k3[z * 6 + 2] + Ai_k3[z * 6 + 3] + Ai_k3[z * 6 + 4]))\n",
        "        val = s_box[z][row][col]\n",
        "        Bi_k3 += dec_to_bin(int(val))\n",
        "\n",
        "    PBi_k3 = ''\n",
        "\n",
        "    # Permutasi P-box\n",
        "    for x in range(32):\n",
        "        PBi_k3 += Bi_k3[p_box[x] - 1]\n",
        "\n",
        "    # Menambahkan nilai Li+Ri ke dalam hasilDec\n",
        "    hasilDec3.append(Li_k3 + Ri_k3)\n",
        "\n",
        "    print(f\"\\nPERPUTARAN {i+1}\")\n",
        "    print(f\"P(B{i+1})  : {PBi_k3}\")\n",
        "    print(f\"L({i+1})   : {Li_k3}\")\n",
        "    print(f\"R({i+1})   : {Ri_k3}\")\n",
        "    print(f\"L{i+1}R{i+1}  : {Li_k3 + Ri_k3}\")\n",
        "\n",
        "    Ri_k3 = ''\n",
        "\n",
        "    # XOR antara PBi dan Li\n",
        "    for c in range(32):\n",
        "        if PBi_k3[c] == Li_k3[c]:\n",
        "            Ri_k3 += '0'\n",
        "        else:\n",
        "            Ri_k3 += '1'\n",
        "\n",
        "    Li_k3 = R_k3\n",
        "\n",
        "    if i == 15:\n",
        "\n",
        "        hasilDec3.append(Ri_k3 + Li_k3)\n",
        "        print(\"\\n---------------------------------------------\")\n",
        "        print(f\"R({i+1})  : {Ri_k3}\")\n",
        "        print(f\"L({i+1})  : {Li_k3}\")\n",
        "        print(f\"L{i+1}R{i+1} : {Ri_k3 + Li_k3}\")\n"
      ],
      "metadata": {
        "colab": {
          "base_uri": "https://localhost:8080/"
        },
        "id": "asLOHQphkqZ-",
        "outputId": "2b064dd6-ad58-4d88-8abb-4a6187d8bd9a"
      },
      "execution_count": null,
      "outputs": [
        {
          "output_type": "stream",
          "name": "stdout",
          "text": [
            "\n",
            "PERPUTARAN 1\n",
            "P(B1)  : 01000000101001100011010000011010\n",
            "L(1)   : 11001001000100111101011000101010\n",
            "R(1)   : 11000010100011010001101100001101\n",
            "L1R1  : 1100100100010011110101100010101011000010100011010001101100001101\n",
            "\n",
            "PERPUTARAN 2\n",
            "P(B2)  : 00011110001101100000000100011100\n",
            "L(2)   : 11000010100011010001101100001101\n",
            "R(2)   : 10001001101101011110001000110000\n",
            "L2R2  : 1100001010001101000110110000110110001001101101011110001000110000\n",
            "\n",
            "PERPUTARAN 3\n",
            "P(B3)  : 10010010011011010000001111001000\n",
            "L(3)   : 10001001101101011110001000110000\n",
            "R(3)   : 11011100101110110001101000010001\n",
            "L3R3  : 1000100110110101111000100011000011011100101110110001101000010001\n",
            "\n",
            "PERPUTARAN 4\n",
            "P(B4)  : 01001110111100100000110011100100\n",
            "L(4)   : 11011100101110110001101000010001\n",
            "R(4)   : 00011011110110001110000111111000\n",
            "L4R4  : 1101110010111011000110100001000100011011110110001110000111111000\n",
            "\n",
            "PERPUTARAN 5\n",
            "P(B5)  : 01100111110100110011000010011011\n",
            "L(5)   : 00011011110110001110000111111000\n",
            "R(5)   : 10010010010010010001011011110101\n",
            "L5R5  : 0001101111011000111000011111100010010010010010010001011011110101\n",
            "\n",
            "PERPUTARAN 6\n",
            "P(B6)  : 00101011010001010011111101111100\n",
            "L(6)   : 10010010010010010001011011110101\n",
            "R(6)   : 01111100000010111101000101100011\n",
            "L6R6  : 1001001001001001000101101111010101111100000010111101000101100011\n",
            "\n",
            "PERPUTARAN 7\n",
            "P(B7)  : 11101100001111001010000011111111\n",
            "L(7)   : 01111100000010111101000101100011\n",
            "R(7)   : 10111001000011000010100110001001\n",
            "L7R7  : 0111110000001011110100010110001110111001000011000010100110001001\n",
            "\n",
            "PERPUTARAN 8\n",
            "P(B8)  : 00111001010001111001111011110101\n",
            "L(8)   : 10111001000011000010100110001001\n",
            "R(8)   : 10010000001101110111000110011100\n",
            "L8R8  : 1011100100001100001010011000100110010000001101110111000110011100\n",
            "\n",
            "PERPUTARAN 9\n",
            "P(B9)  : 10110110000010100001000001010010\n",
            "L(9)   : 10010000001101110111000110011100\n",
            "R(9)   : 10000000010010111011011101111100\n",
            "L9R9  : 1001000000110111011100011001110010000000010010111011011101111100\n",
            "\n",
            "PERPUTARAN 10\n",
            "P(B10)  : 00111110001111010000110000101001\n",
            "L(10)   : 10000000010010111011011101111100\n",
            "R(10)   : 00100110001111010110000111001110\n",
            "L10R10  : 1000000001001011101101110111110000100110001111010110000111001110\n",
            "\n",
            "PERPUTARAN 11\n",
            "P(B11)  : 01101001001110011010011011011011\n",
            "L(11)   : 00100110001111010110000111001110\n",
            "R(11)   : 10111110011101101011101101010101\n",
            "L11R11  : 0010011000111101011000011100111010111110011101101011101101010101\n",
            "\n",
            "PERPUTARAN 12\n",
            "P(B12)  : 00001110010110101100111011100010\n",
            "L(12)   : 10111110011101101011101101010101\n",
            "R(12)   : 01001111000001001100011100010101\n",
            "L12R12  : 1011111001110110101110110101010101001111000001001100011100010101\n",
            "\n",
            "PERPUTARAN 13\n",
            "P(B13)  : 01010101011110100100000011101010\n",
            "L(13)   : 01001111000001001100011100010101\n",
            "R(13)   : 10110000001011000111010110110111\n",
            "L13R13  : 0100111100000100110001110001010110110000001011000111010110110111\n",
            "\n",
            "PERPUTARAN 14\n",
            "P(B14)  : 11000010001110101111101010110111\n",
            "L(14)   : 10110000001011000111010110110111\n",
            "R(14)   : 00011010011111101000011111111111\n",
            "L14R14  : 1011000000101100011101011011011100011010011111101000011111111111\n",
            "\n",
            "PERPUTARAN 15\n",
            "P(B15)  : 11111100011001100000001110111110\n",
            "L(15)   : 00011010011111101000011111111111\n",
            "R(15)   : 01110010000101101000111100000000\n",
            "L15R15  : 0001101001111110100001111111111101110010000101101000111100000000\n",
            "\n",
            "PERPUTARAN 16\n",
            "P(B16)  : 01101001100101010011001000101100\n",
            "L(16)   : 01110010000101101000111100000000\n",
            "R(16)   : 11100110000110001000010001000001\n",
            "L16R16  : 0111001000010110100011110000000011100110000110001000010001000001\n",
            "\n",
            "---------------------------------------------\n",
            "R(16)  : 00011011100000111011110100101100\n",
            "L(16)  : 11100110000110001000010001000001\n",
            "L16R16 : 0001101110000011101111010010110011100110000110001000010001000001\n"
          ]
        }
      ]
    },
    {
      "cell_type": "code",
      "source": [
        "print(\"List Hasil L1R1 - L16R16\")\n",
        "for i, lr_dec3 in enumerate(hasilDec3, start=0):\n",
        "    spaced_lr_dec3 = ' '.join(lr_dec3[j:j+8] for j in range(0, len(lr_dec3), 8))\n",
        "    print(f\"L{i}R{i}:\\t {spaced_lr_dec3}\")"
      ],
      "metadata": {
        "colab": {
          "base_uri": "https://localhost:8080/"
        },
        "id": "hoe112pqQgrB",
        "outputId": "cc2fa802-5a43-4b9e-90ce-8c41e949b387"
      },
      "execution_count": null,
      "outputs": [
        {
          "output_type": "stream",
          "name": "stdout",
          "text": [
            "List Hasil L1R1 - L16R16\n",
            "L0R0:\t 11001001 00010011 11010110 00101010 11000010 10001101 00011011 00001101\n",
            "L1R1:\t 11000010 10001101 00011011 00001101 10001001 10110101 11100010 00110000\n",
            "L2R2:\t 10001001 10110101 11100010 00110000 11011100 10111011 00011010 00010001\n",
            "L3R3:\t 11011100 10111011 00011010 00010001 00011011 11011000 11100001 11111000\n",
            "L4R4:\t 00011011 11011000 11100001 11111000 10010010 01001001 00010110 11110101\n",
            "L5R5:\t 10010010 01001001 00010110 11110101 01111100 00001011 11010001 01100011\n",
            "L6R6:\t 01111100 00001011 11010001 01100011 10111001 00001100 00101001 10001001\n",
            "L7R7:\t 10111001 00001100 00101001 10001001 10010000 00110111 01110001 10011100\n",
            "L8R8:\t 10010000 00110111 01110001 10011100 10000000 01001011 10110111 01111100\n",
            "L9R9:\t 10000000 01001011 10110111 01111100 00100110 00111101 01100001 11001110\n",
            "L10R10:\t 00100110 00111101 01100001 11001110 10111110 01110110 10111011 01010101\n",
            "L11R11:\t 10111110 01110110 10111011 01010101 01001111 00000100 11000111 00010101\n",
            "L12R12:\t 01001111 00000100 11000111 00010101 10110000 00101100 01110101 10110111\n",
            "L13R13:\t 10110000 00101100 01110101 10110111 00011010 01111110 10000111 11111111\n",
            "L14R14:\t 00011010 01111110 10000111 11111111 01110010 00010110 10001111 00000000\n",
            "L15R15:\t 01110010 00010110 10001111 00000000 11100110 00011000 10000100 01000001\n",
            "L16R16:\t 00011011 10000011 10111101 00101100 11100110 00011000 10000100 01000001\n"
          ]
        }
      ]
    },
    {
      "cell_type": "code",
      "source": [
        "dekrip_permutasi = [40, 8, 48, 16, 56, 24, 64, 32,\n",
        "              39, 7, 47, 15, 55, 23, 63, 31,\n",
        "              38, 6, 46, 14, 54, 22, 62, 30,\n",
        "              37, 5, 45, 13, 53, 21, 61, 29,\n",
        "              36, 4, 44, 12, 52, 20, 60, 28,\n",
        "              35, 3, 43, 11, 51, 19, 59, 27,\n",
        "              34, 2, 42, 10, 50, 18, 58, 26,\n",
        "              33, 1, 41, 9, 49, 17, 57, 25 ]\n",
        "\n",
        "dekrip3 = ''\n",
        "for i in range(64):\n",
        "  dekrip3 += hasilDec3[16][dekrip_permutasi[i]-1]\n",
        "\n",
        "print('Dekripsi : ', dekrip3)"
      ],
      "metadata": {
        "colab": {
          "base_uri": "https://localhost:8080/"
        },
        "id": "Q31wSxIRg6Kl",
        "outputId": "af7c0942-2a89-4054-e96b-81dbf3290b6f"
      },
      "execution_count": null,
      "outputs": [
        {
          "output_type": "stream",
          "name": "stdout",
          "text": [
            "Dekripsi :  0101011011010000100011010110010101100100100001011000001010011100\n"
          ]
        }
      ]
    },
    {
      "cell_type": "markdown",
      "source": [
        "Dekripsi K2 agar kembali menjadi cipher K1"
      ],
      "metadata": {
        "id": "IVbj2ssWiGdK"
      }
    },
    {
      "cell_type": "code",
      "source": [
        "hasilDec2 = []  # Menyimpan nilai L16+R16, L15+R15, ..., L0+R0\n",
        "Li_k2 = L16_k2  # Inisialisasi nilai Li dan Ri dengan L16 dan R16\n",
        "Ri_k2 = R16_k2\n",
        "LOOPBACK = 15  # Indeks loopback untuk penggunaan kunci subkeys\n",
        "\n",
        "for i in range(16):  # Iterasi untuk 16 putaran (i dari 0 hingga 15)\n",
        "    ER_k2 = ''\n",
        "    R_k2 = Ri_k2\n",
        "\n",
        "    # Ekspansi\n",
        "    for j in range(48):\n",
        "        ER_k2 += R_k2[expansion_table[j] - 1]\n",
        "\n",
        "    Ai_k2 = ''\n",
        "\n",
        "       # XOR antara ER dan subkeys[LOOPBACK]\n",
        "    for k in range(48):\n",
        "        if ER_k2[k] == subkeys2[LOOPBACK][k]:\n",
        "            Ai_k2 += '0'\n",
        "        else:\n",
        "            Ai_k2 += '1'\n",
        "\n",
        "    LOOPBACK -= 1  # Digunakan untuk mengakses subkunci dari indeks yang berkurang pada setiap iterasi, sehingga subkunci digunakan secara terbalik.\n",
        "\n",
        "    Bi_k2 = ''\n",
        "\n",
        "    # Substitusi dengan S-box\n",
        "    for z in range(0, 8):\n",
        "        row = bin_to_dec(int(Ai_k2[z * 6] + Ai_k2[z * 6 + 5]))\n",
        "        col = bin_to_dec(int(Ai_k2[z * 6 + 1] + Ai_k2[z * 6 + 2] + Ai_k2[z * 6 + 3] + Ai_k2[z * 6 + 4]))\n",
        "        val = s_box[z][row][col]\n",
        "        Bi_k2 += dec_to_bin(int(val))\n",
        "\n",
        "    PBi_k2 = ''\n",
        "\n",
        "    # Permutasi P-box\n",
        "    for x in range(32):\n",
        "        PBi_k2 += Bi_k2[p_box[x] - 1]\n",
        "\n",
        "    # Menambahkan nilai Li+Ri ke dalam hasilDec2\n",
        "    hasilDec2.append(Li_k2 + Ri_k2)\n",
        "\n",
        "    print(f\"\\nPERPUTARAN {i+1}\")\n",
        "    print(f\"P(B{i+1})  : {PBi_k2}\")\n",
        "    print(f\"L({i+1})   : {Li_k2}\")\n",
        "    print(f\"R({i+1})   : {Ri_k2}\")\n",
        "    print(f\"L{i+1}R{i+1}  : {Li_k2 + Ri_k2}\")\n",
        "\n",
        "    Ri_k2 = ''\n",
        "\n",
        "   # XOR antara PBi dan Li\n",
        "    for c in range(32):\n",
        "        if PBi_k2[c] == Li_k2[c]:\n",
        "            Ri_k2 += '0'\n",
        "        else:\n",
        "            Ri_k2 += '1'\n",
        "\n",
        "    Li_k2 = R_k2\n",
        "\n",
        "    if i == 15:\n",
        "\n",
        "        hasilDec2.append(Ri_k2 + Li_k2)\n",
        "        print(\"\\n---------------------------------------------\")\n",
        "        print(f\"R({i+1})  : {Ri_k2}\")\n",
        "        print(f\"L({i+1})  : {Li_k2}\")\n",
        "        print(f\"L{i+1}R{i+1} : {Ri_k2 + Li_k2}\")\n"
      ],
      "metadata": {
        "colab": {
          "base_uri": "https://localhost:8080/"
        },
        "id": "I66WoqWcQ6-Y",
        "outputId": "e42a2946-1f56-44c5-81ac-7dd634b4fa1e"
      },
      "execution_count": null,
      "outputs": [
        {
          "output_type": "stream",
          "name": "stdout",
          "text": [
            "\n",
            "PERPUTARAN 1\n",
            "P(B1)  : 00011000110110010110100100100101\n",
            "L(1)   : 00011011100000111011110100101100\n",
            "R(1)   : 11100110000110001000010001000001\n",
            "L1R1  : 0001101110000011101111010010110011100110000110001000010001000001\n",
            "\n",
            "PERPUTARAN 2\n",
            "P(B2)  : 10100011000011000101110010100110\n",
            "L(2)   : 11100110000110001000010001000001\n",
            "R(2)   : 00000011010110101101010000001001\n",
            "L2R2  : 1110011000011000100001000100000100000011010110101101010000001001\n",
            "\n",
            "PERPUTARAN 3\n",
            "P(B3)  : 11111100110101101001000011000110\n",
            "L(3)   : 00000011010110101101010000001001\n",
            "R(3)   : 01000101000101001101100011100111\n",
            "L3R3  : 0000001101011010110101000000100101000101000101001101100011100111\n",
            "\n",
            "PERPUTARAN 4\n",
            "P(B4)  : 00110000111011110101110100111111\n",
            "L(4)   : 01000101000101001101100011100111\n",
            "R(4)   : 11111111100011000100010011001111\n",
            "L4R4  : 0100010100010100110110001110011111111111100011000100010011001111\n",
            "\n",
            "PERPUTARAN 5\n",
            "P(B5)  : 11110111000001011011011011000001\n",
            "L(5)   : 11111111100011000100010011001111\n",
            "R(5)   : 01110101111110111000010111011000\n",
            "L5R5  : 1111111110001100010001001100111101110101111110111000010111011000\n",
            "\n",
            "PERPUTARAN 6\n",
            "P(B6)  : 00000000101011001010011000001001\n",
            "L(6)   : 01110101111110111000010111011000\n",
            "R(6)   : 00001000100010011111001000001110\n",
            "L6R6  : 0111010111111011100001011101100000001000100010011111001000001110\n",
            "\n",
            "PERPUTARAN 7\n",
            "P(B7)  : 01001011111000001110011011010001\n",
            "L(7)   : 00001000100010011111001000001110\n",
            "R(7)   : 01110101010101110010001111010001\n",
            "L7R7  : 0000100010001001111100100000111001110101010101110010001111010001\n",
            "\n",
            "PERPUTARAN 8\n",
            "P(B8)  : 01101010001010100111111011011011\n",
            "L(8)   : 01110101010101110010001111010001\n",
            "R(8)   : 01000011011010010001010011011111\n",
            "L8R8  : 0111010101010111001000111101000101000011011010010001010011011111\n",
            "\n",
            "PERPUTARAN 9\n",
            "P(B9)  : 11111111010110010011100000110101\n",
            "L(9)   : 01000011011010010001010011011111\n",
            "R(9)   : 00011111011111010101110100001010\n",
            "L9R9  : 0100001101101001000101001101111100011111011111010101110100001010\n",
            "\n",
            "PERPUTARAN 10\n",
            "P(B10)  : 00000000000111010011001111110001\n",
            "L(10)   : 00011111011111010101110100001010\n",
            "R(10)   : 10111100001100000010110011101010\n",
            "L10R10  : 0001111101111101010111010000101010111100001100000010110011101010\n",
            "\n",
            "PERPUTARAN 11\n",
            "P(B11)  : 00100110001110000011000110001100\n",
            "L(11)   : 10111100001100000010110011101010\n",
            "R(11)   : 00011111011000000110111011111011\n",
            "L11R11  : 1011110000110000001011001110101000011111011000000110111011111011\n",
            "\n",
            "PERPUTARAN 12\n",
            "P(B12)  : 00001001100100110111001011111010\n",
            "L(12)   : 00011111011000000110111011111011\n",
            "R(12)   : 10011010000010000001110101100110\n",
            "L12R12  : 0001111101100000011011101111101110011010000010000001110101100110\n",
            "\n",
            "PERPUTARAN 13\n",
            "P(B13)  : 11110111010001100101000011011001\n",
            "L(13)   : 10011010000010000001110101100110\n",
            "R(13)   : 00010110111100110001110000000001\n",
            "L13R13  : 1001101000001000000111010110011000010110111100110001110000000001\n",
            "\n",
            "PERPUTARAN 14\n",
            "P(B14)  : 10100100001100101011100110111110\n",
            "L(14)   : 00010110111100110001110000000001\n",
            "R(14)   : 01101101010011100100110110111111\n",
            "L14R14  : 0001011011110011000111000000000101101101010011100100110110111111\n",
            "\n",
            "PERPUTARAN 15\n",
            "P(B15)  : 00000011111011001110010100001110\n",
            "L(15)   : 01101101010011100100110110111111\n",
            "R(15)   : 10110010110000011010010110111111\n",
            "L15R15  : 0110110101001110010011011011111110110010110000011010010110111111\n",
            "\n",
            "PERPUTARAN 16\n",
            "P(B16)  : 10101101010101100000000001011001\n",
            "L(16)   : 10110010110000011010010110111111\n",
            "R(16)   : 01101110101000101010100010110001\n",
            "L16R16  : 1011001011000001101001011011111101101110101000101010100010110001\n",
            "\n",
            "---------------------------------------------\n",
            "R(16)  : 00011111100101111010010111100110\n",
            "L(16)  : 01101110101000101010100010110001\n",
            "L16R16 : 0001111110010111101001011110011001101110101000101010100010110001\n"
          ]
        }
      ]
    },
    {
      "cell_type": "code",
      "source": [
        "print(\"List Hasil L1R1 - L16R16\")\n",
        "for i, lr_dec2 in enumerate(hasilDec2, start=0):\n",
        "    spaced_lr_dec2 = ' '.join(lr_dec2[j:j+8] for j in range(0, len(lr_dec2), 8))\n",
        "    print(f\"L{i}R{i}:\\t {spaced_lr_dec2}\")\n"
      ],
      "metadata": {
        "colab": {
          "base_uri": "https://localhost:8080/"
        },
        "id": "kFdRS1a5hLa_",
        "outputId": "0edf0014-3ffc-4c5d-c963-957a10123419"
      },
      "execution_count": null,
      "outputs": [
        {
          "output_type": "stream",
          "name": "stdout",
          "text": [
            "List Hasil L1R1 - L16R16\n",
            "L0R0:\t 00011011 10000011 10111101 00101100 11100110 00011000 10000100 01000001\n",
            "L1R1:\t 11100110 00011000 10000100 01000001 00000011 01011010 11010100 00001001\n",
            "L2R2:\t 00000011 01011010 11010100 00001001 01000101 00010100 11011000 11100111\n",
            "L3R3:\t 01000101 00010100 11011000 11100111 11111111 10001100 01000100 11001111\n",
            "L4R4:\t 11111111 10001100 01000100 11001111 01110101 11111011 10000101 11011000\n",
            "L5R5:\t 01110101 11111011 10000101 11011000 00001000 10001001 11110010 00001110\n",
            "L6R6:\t 00001000 10001001 11110010 00001110 01110101 01010111 00100011 11010001\n",
            "L7R7:\t 01110101 01010111 00100011 11010001 01000011 01101001 00010100 11011111\n",
            "L8R8:\t 01000011 01101001 00010100 11011111 00011111 01111101 01011101 00001010\n",
            "L9R9:\t 00011111 01111101 01011101 00001010 10111100 00110000 00101100 11101010\n",
            "L10R10:\t 10111100 00110000 00101100 11101010 00011111 01100000 01101110 11111011\n",
            "L11R11:\t 00011111 01100000 01101110 11111011 10011010 00001000 00011101 01100110\n",
            "L12R12:\t 10011010 00001000 00011101 01100110 00010110 11110011 00011100 00000001\n",
            "L13R13:\t 00010110 11110011 00011100 00000001 01101101 01001110 01001101 10111111\n",
            "L14R14:\t 01101101 01001110 01001101 10111111 10110010 11000001 10100101 10111111\n",
            "L15R15:\t 10110010 11000001 10100101 10111111 01101110 10100010 10101000 10110001\n",
            "L16R16:\t 00011111 10010111 10100101 11100110 01101110 10100010 10101000 10110001\n"
          ]
        }
      ]
    },
    {
      "cell_type": "code",
      "source": [
        "dekrip2 = ''\n",
        "for i in range(64):\n",
        "    dekrip2 += hasilDec2[16][dekrip_permutasi[i]-1]\n",
        "\n",
        "print('Dekripsi : ', dekrip2)\n",
        "\n",
        "#Enkripsi K1 :  01010110 11110001 11010101 11001000 01010010 10101111 10000001 00111111\n"
      ],
      "metadata": {
        "colab": {
          "base_uri": "https://localhost:8080/"
        },
        "id": "aatvtM1MhQtk",
        "outputId": "aa496408-fe23-4d54-ac80-0f0615b0cfa8"
      },
      "execution_count": null,
      "outputs": [
        {
          "output_type": "stream",
          "name": "stdout",
          "text": [
            "Dekripsi :  0101011011110001110101011100100001010010101011111000000100111111\n"
          ]
        }
      ]
    },
    {
      "cell_type": "markdown",
      "source": [
        "Dekripsi K1 agar kembali menjadi plaintext"
      ],
      "metadata": {
        "id": "C6lcPrybiKvt"
      }
    },
    {
      "cell_type": "code",
      "source": [
        "hasilDec = []  #  menyimpan nilai L16+R16, L15+R15, ..., L0+R0\n",
        "Li = L16       # Inisialisasi nilai Li dan Ri dengan L16 dan R16\n",
        "Ri = R16\n",
        "LOOPBACK = 15  # Indeks loopback untuk penggunaan kunci subkeys\n",
        "\n",
        "for i in range(16):  # Iterasi untuk 16 putaran (i dari 0 hingga 15)\n",
        "    ER = ''\n",
        "    R = Ri\n",
        "\n",
        "    # Ekspansi\n",
        "    for j in range(48):\n",
        "        ER += R[expansion_table[j] - 1]\n",
        "\n",
        "    Ai = ''\n",
        "\n",
        "    # XOR antara ER dan subkeys[LOOPBACK]\n",
        "    for k in range(48):\n",
        "        if ER[k] == subkeys1[LOOPBACK][k]:\n",
        "            Ai += '0'\n",
        "        else:\n",
        "            Ai += '1'\n",
        "\n",
        "    LOOPBACK -= 1 #digunakan untuk mengakses subkunci dari indeks yang berkurang pada setiap iterasi, sehingga subkunci digunakan secara terbalik.\n",
        "\n",
        "    Bi = ''\n",
        "\n",
        "    # Substitusi dengan S-box\n",
        "    for z in range(0, 8):\n",
        "        row = bin_to_dec(int(Ai[z * 6] + Ai[z * 6 + 5]))\n",
        "        col = bin_to_dec(int(Ai[z * 6 + 1] + Ai[z * 6 + 2] + Ai[z * 6 + 3] + Ai[z * 6 + 4]))\n",
        "        val = s_box[z][row][col]\n",
        "        Bi += dec_to_bin(int(val))\n",
        "\n",
        "    PBi = ''\n",
        "\n",
        "    # Permutasi P-box\n",
        "    for x in range(32):\n",
        "        PBi += Bi[p_box[x] - 1]\n",
        "\n",
        "    # Menambahkan nilai Li+Ri ke dalam hasilDec\n",
        "    hasilDec.append(Li + Ri)\n",
        "\n",
        "    print(f\"\\nPERPUTARAN {i+1}\")\n",
        "    print(f\"P(B{i+1})  : {PBi}\")\n",
        "    print(f\"L({i+1})   : {Li}\")\n",
        "    print(f\"R({i+1})   : {Ri}\")\n",
        "    print(f\"L{i+1}R{i+1}  : {Li + Ri}\")\n",
        "\n",
        "    Ri = ''\n",
        "\n",
        "    # XOR antara PBi dan Li\n",
        "    for c in range(32):\n",
        "        if PBi[c] == Li[c]:\n",
        "            Ri += '0'\n",
        "        else:\n",
        "            Ri += '1'\n",
        "\n",
        "    Li = R\n",
        "\n",
        "    if i == 15:\n",
        "\n",
        "        hasilDec.append(Ri + Li)\n",
        "        print(\"\\n---------------------------------------------\")\n",
        "        print(f\"R({i+1})  : {Ri}\")\n",
        "        print(f\"L({i+1})  : {Li}\")\n",
        "        print(f\"L{i+1}R{i+1} : {Ri + Li}\")\n"
      ],
      "metadata": {
        "colab": {
          "base_uri": "https://localhost:8080/"
        },
        "id": "I2jlcv6HhSvi",
        "outputId": "39353cb0-b1d3-4226-f9bf-2ec6a7d3e66c"
      },
      "execution_count": null,
      "outputs": [
        {
          "output_type": "stream",
          "name": "stdout",
          "text": [
            "\n",
            "PERPUTARAN 1\n",
            "P(B1)  : 00101001111101110110100011001100\n",
            "L(1)   : 00011111100101111010010111100110\n",
            "R(1)   : 01101110101000101010100010110001\n",
            "L1R1  : 0001111110010111101001011110011001101110101000101010100010110001\n",
            "\n",
            "PERPUTARAN 2\n",
            "P(B2)  : 10100101001001101110110011101100\n",
            "L(2)   : 01101110101000101010100010110001\n",
            "R(2)   : 00110110011000001100110100101010\n",
            "L2R2  : 0110111010100010101010001011000100110110011000001100110100101010\n",
            "\n",
            "PERPUTARAN 3\n",
            "P(B3)  : 00000101110111010011101001001111\n",
            "L(3)   : 00110110011000001100110100101010\n",
            "R(3)   : 11001011100001000100010001011101\n",
            "L3R3  : 0011011001100000110011010010101011001011100001000100010001011101\n",
            "\n",
            "PERPUTARAN 4\n",
            "P(B4)  : 10000110110010111100111111001011\n",
            "L(4)   : 11001011100001000100010001011101\n",
            "R(4)   : 00110011101111011111011101100101\n",
            "L4R4  : 1100101110000100010001000101110100110011101111011111011101100101\n",
            "\n",
            "PERPUTARAN 5\n",
            "P(B5)  : 10101000011010001000111011101001\n",
            "L(5)   : 00110011101111011111011101100101\n",
            "R(5)   : 01001101010011111000101110010110\n",
            "L5R5  : 0011001110111101111101110110010101001101010011111000101110010110\n",
            "\n",
            "PERPUTARAN 6\n",
            "P(B6)  : 01110001001111101011000001010011\n",
            "L(6)   : 01001101010011111000101110010110\n",
            "R(6)   : 10011011110101010111100110001100\n",
            "L6R6  : 0100110101001111100010111001011010011011110101010111100110001100\n",
            "\n",
            "PERPUTARAN 7\n",
            "P(B7)  : 00001100000101010110111000100100\n",
            "L(7)   : 10011011110101010111100110001100\n",
            "R(7)   : 00111100011100010011101111000101\n",
            "L7R7  : 1001101111010101011110011000110000111100011100010011101111000101\n",
            "\n",
            "PERPUTARAN 8\n",
            "P(B8)  : 11011001001110111010001110010100\n",
            "L(8)   : 00111100011100010011101111000101\n",
            "R(8)   : 10010111110000000001011110101000\n",
            "L8R8  : 0011110001110001001110111100010110010111110000000001011110101000\n",
            "\n",
            "PERPUTARAN 9\n",
            "P(B9)  : 00000111001110010010100101100001\n",
            "L(9)   : 10010111110000000001011110101000\n",
            "R(9)   : 11100101010010101001100001010001\n",
            "L9R9  : 1001011111000000000101111010100011100101010010101001100001010001\n",
            "\n",
            "PERPUTARAN 10\n",
            "P(B10)  : 11001000110000011110111001101100\n",
            "L(10)   : 11100101010010101001100001010001\n",
            "R(10)   : 10010000111110010011111011001001\n",
            "L10R10  : 1110010101001010100110000101000110010000111110010011111011001001\n",
            "\n",
            "PERPUTARAN 11\n",
            "P(B11)  : 00100100000110111111001111111000\n",
            "L(11)   : 10010000111110010011111011001001\n",
            "R(11)   : 00101101100010110111011000111101\n",
            "L11R11  : 1001000011111001001111101100100100101101100010110111011000111101\n",
            "\n",
            "PERPUTARAN 12\n",
            "P(B12)  : 10010101001100101101100001000101\n",
            "L(12)   : 00101101100010110111011000111101\n",
            "R(12)   : 10110100111000101100110100110001\n",
            "L12R12  : 0010110110001011011101100011110110110100111000101100110100110001\n",
            "\n",
            "PERPUTARAN 13\n",
            "P(B13)  : 00111111001110110100011110100001\n",
            "L(13)   : 10110100111000101100110100110001\n",
            "R(13)   : 10111000101110011010111001111000\n",
            "L13R13  : 1011010011100010110011010011000110111000101110011010111001111000\n",
            "\n",
            "PERPUTARAN 14\n",
            "P(B14)  : 01101111101100101001110011111110\n",
            "L(14)   : 10111000101110011010111001111000\n",
            "R(14)   : 10001011110110011000101010010000\n",
            "L14R14  : 1011100010111001101011100111100010001011110110011000101010010000\n",
            "\n",
            "PERPUTARAN 15\n",
            "P(B15)  : 10001011110110011000110000010011\n",
            "L(15)   : 10001011110110011000101010010000\n",
            "R(15)   : 11010111000010110011001010000110\n",
            "L15R15  : 1000101111011001100010101001000011010111000010110011001010000110\n",
            "\n",
            "PERPUTARAN 16\n",
            "P(B16)  : 00101000101100110100010011010001\n",
            "L(16)   : 11010111000010110011001010000110\n",
            "R(16)   : 00000000000000000000011010000011\n",
            "L16R16  : 1101011100001011001100101000011000000000000000000000011010000011\n",
            "\n",
            "---------------------------------------------\n",
            "R(16)  : 11111111101110000111011001010111\n",
            "L(16)  : 00000000000000000000011010000011\n",
            "L16R16 : 1111111110111000011101100101011100000000000000000000011010000011\n"
          ]
        }
      ]
    },
    {
      "cell_type": "code",
      "source": [
        "print(\"List Hasil L1R1 - L16R16\")\n",
        "for i, lr_dec in enumerate(hasilDec, start=0):\n",
        "    spaced_lr_dec = ' '.join(lr_dec[j:j+8] for j in range(0, len(lr_dec), 8))\n",
        "    print(f\"L{i}R{i}:\\t {spaced_lr_dec}\")"
      ],
      "metadata": {
        "colab": {
          "base_uri": "https://localhost:8080/"
        },
        "id": "4XmprDu7hVBx",
        "outputId": "4a084e2f-d3a6-492b-d855-8e88d18312a6"
      },
      "execution_count": null,
      "outputs": [
        {
          "output_type": "stream",
          "name": "stdout",
          "text": [
            "List Hasil L1R1 - L16R16\n",
            "L0R0:\t 00011111 10010111 10100101 11100110 01101110 10100010 10101000 10110001\n",
            "L1R1:\t 01101110 10100010 10101000 10110001 00110110 01100000 11001101 00101010\n",
            "L2R2:\t 00110110 01100000 11001101 00101010 11001011 10000100 01000100 01011101\n",
            "L3R3:\t 11001011 10000100 01000100 01011101 00110011 10111101 11110111 01100101\n",
            "L4R4:\t 00110011 10111101 11110111 01100101 01001101 01001111 10001011 10010110\n",
            "L5R5:\t 01001101 01001111 10001011 10010110 10011011 11010101 01111001 10001100\n",
            "L6R6:\t 10011011 11010101 01111001 10001100 00111100 01110001 00111011 11000101\n",
            "L7R7:\t 00111100 01110001 00111011 11000101 10010111 11000000 00010111 10101000\n",
            "L8R8:\t 10010111 11000000 00010111 10101000 11100101 01001010 10011000 01010001\n",
            "L9R9:\t 11100101 01001010 10011000 01010001 10010000 11111001 00111110 11001001\n",
            "L10R10:\t 10010000 11111001 00111110 11001001 00101101 10001011 01110110 00111101\n",
            "L11R11:\t 00101101 10001011 01110110 00111101 10110100 11100010 11001101 00110001\n",
            "L12R12:\t 10110100 11100010 11001101 00110001 10111000 10111001 10101110 01111000\n",
            "L13R13:\t 10111000 10111001 10101110 01111000 10001011 11011001 10001010 10010000\n",
            "L14R14:\t 10001011 11011001 10001010 10010000 11010111 00001011 00110010 10000110\n",
            "L15R15:\t 11010111 00001011 00110010 10000110 00000000 00000000 00000110 10000011\n",
            "L16R16:\t 11111111 10111000 01110110 01010111 00000000 00000000 00000110 10000011\n"
          ]
        }
      ]
    },
    {
      "cell_type": "code",
      "source": [
        "dekrip = ''\n",
        "for i in range(64):\n",
        "  dekrip += hasilDec[16][dekrip_permutasi[i]-1]\n",
        "\n",
        "print('Dekripsi Akhir : ', dekrip)"
      ],
      "metadata": {
        "colab": {
          "base_uri": "https://localhost:8080/"
        },
        "id": "KB261baQhciT",
        "outputId": "c20f4045-2771-4f00-f013-17b4df09547f"
      },
      "execution_count": null,
      "outputs": [
        {
          "output_type": "stream",
          "name": "stdout",
          "text": [
            "Dekripsi Akhir :  0100001101001111010011010101000001010101010101000100010101010010\n"
          ]
        }
      ]
    }
  ]
}